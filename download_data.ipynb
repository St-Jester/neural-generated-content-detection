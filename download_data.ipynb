{
  "nbformat": 4,
  "nbformat_minor": 0,
  "metadata": {
    "colab": {
      "name": "download_data.ipynb",
      "provenance": [],
      "private_outputs": true,
      "collapsed_sections": [
        "SZmD-PhkTtre",
        "p0ZExQMRT8LZ",
        "3nDvZKVrUK06",
        "0LbchM5GUZeb",
        "NsrrqtmYUoH6",
        "15bS1_7-U265",
        "swxzAzDXVFkb",
        "ttmTswOgVUN6",
        "Ylfwg6F6Vi3c",
        "QHEYnDeWVxg4",
        "dpXMe0r4WAKY",
        "-eSrhgUVWOz7",
        "6kYh8vwaWddf",
        "TNR6eCUXWsG7",
        "p_ngMewPW6wY",
        "3PahovQzXJZ7",
        "6u2x9YJoXYDa",
        "3AOqArVhXms5",
        "knpt7tJiX1WY",
        "GQwn0V5tYEAG",
        "CdBRONp-YSpb",
        "SWciwwtFYhS9",
        "LhnGO_8bYv8e",
        "_foc6AfoY-l5",
        "22adUAn7ZNPY",
        "Cz4ehaAwZb45",
        "eDprSgS6Zqia",
        "OikqNFo1Z5L7",
        "uI7HDTdhaH1g",
        "dq3s_8lpaWe6",
        "r6W_9ytJalIb",
        "Gq_KZDUVazx4",
        "lJfqov11bCba",
        "BIpL44LbbRE5",
        "2iIG6Ns4bfuZ",
        "b6WzGtNrbuX5",
        "nVgfaykCb9Ba",
        "wtc4u324cLq4",
        "v1aHrsqTcaUb",
        "q4ug1QiBco95",
        "y4EmfWMTc3nc",
        "OSeLK-rJdGQ9",
        "mWk1LvUBdU64",
        "pmjH6Ffqdjj8",
        "xB5QTSiZdyNd",
        "PUJoq4TaeA25",
        "v--5rDZ5ePgi",
        "oZyAT69CeeJ8",
        "3n08kxzyeszd",
        "mic5nVBQe7c_",
        "BLAr_MLmfKGb",
        "bTLvBbX4fYv7",
        "CPvc4QAMfnZb",
        "rkWV2znRf2DC",
        "SqUoy3YhgEsc",
        "QerwXJlxlG9Z"
      ],
      "include_colab_link": true
    },
    "kernelspec": {
      "name": "python3",
      "display_name": "Python 3"
    }
  },
  "cells": [
    {
      "cell_type": "markdown",
      "metadata": {
        "id": "view-in-github",
        "colab_type": "text"
      },
      "source": [
        "<a href=\"https://colab.research.google.com/github/St-Jester/neural-generated-content-detection/blob/master/download_data.ipynb\" target=\"_parent\"><img src=\"https://colab.research.google.com/assets/colab-badge.svg\" alt=\"Open In Colab\"/></a>"
      ]
    },
    {
      "cell_type": "code",
      "metadata": {
        "id": "uBSzhK1IT5cA",
        "colab_type": "code",
        "colab": {}
      },
      "source": [
        "!python \"/content/drive/My Drive/FakeImageDetector/faceforensics_download_v4.py\" \\\n",
        "\"/content/drive/My Drive/FakeImageDetector/data\" -d original -c c23 -t videos --num_videos 3000"
      ],
      "execution_count": 0,
      "outputs": []
    },
    {
      "cell_type": "code",
      "metadata": {
        "id": "_XszYaEH6quL",
        "colab_type": "code",
        "colab": {}
      },
      "source": [
        ""
      ],
      "execution_count": 0,
      "outputs": []
    },
    {
      "cell_type": "code",
      "metadata": {
        "id": "jWCB7HfL26LX",
        "colab_type": "code",
        "colab": {}
      },
      "source": [
        "video_path = \"/content/drive/My Drive/FakeImageDetector/data/manipulated_sequences/DeepFakeDetection/c23/videos/01_02__meeting_serious__YVGY8LOK.mp4\"\n",
        "image_path = \"/content/drive/My Drive/FakeImageDetector/data/manipulated_sequences/DeepFakeDetection/c23/images/\"\n",
        "!ffmpeg -i video_path -r 30 -q 100 \"./content/drive/My Drive/FakeImageDetector/data/manipulated_sequences/DeepFakeDetection/c23/images/image%04d.jpeg\""
      ],
      "execution_count": 0,
      "outputs": []
    },
    {
      "cell_type": "code",
      "metadata": {
        "id": "VTPIkmp05_Kj",
        "colab_type": "code",
        "colab": {}
      },
      "source": [
        "!ffmpeg -i \"/content/drive/My Drive/FakeImageDetector/data/manipulated_sequences/DeepFakeDetection/c23/videos/01_02__meeting_serious__YVGY8LOK.mp4\"\\\n",
        " -r 30 -q 100 \"/content/drive/My Drive/FakeImageDetector/data/manipulated_sequences/DeepFakeDetection/c23/images/image%04d.jpeg\""
      ],
      "execution_count": 0,
      "outputs": []
    },
    {
      "cell_type": "code",
      "metadata": {
        "id": "CGHNL02P493p",
        "colab_type": "code",
        "colab": {}
      },
      "source": [
        "#ffmpeg -i test.mp4 -vf fps=1/60 thumb%04d.png\n",
        "!ls \"/content/drive/My Drive/FakeImageDetector/data/manipulated_sequences/DeepFakeDetection/c23/videos/\"\n"
      ],
      "execution_count": 0,
      "outputs": []
    },
    {
      "cell_type": "markdown",
      "metadata": {
        "id": "sY7L0_l6S0F3",
        "colab_type": "text"
      },
      "source": [
        "# New Section"
      ]
    },
    {
      "cell_type": "code",
      "metadata": {
        "id": "vOvZxj0_6vzV",
        "colab_type": "code",
        "colab": {}
      },
      "source": [
        "from google.colab import drive\n",
        "drive.mount('/content/drive')"
      ],
      "execution_count": 0,
      "outputs": []
    },
    {
      "cell_type": "code",
      "metadata": {
        "id": "RNUd_xy-WdsO",
        "colab_type": "code",
        "colab": {}
      },
      "source": [
        "from os import listdir\n",
        "from os.path import isfile, join\n",
        "\n",
        "def filenames_to_list(path):\n",
        "  onlyfiles = [f for f in listdir(path) if isfile(join(path, f))]\n",
        "  return onlyfiles"
      ],
      "execution_count": 0,
      "outputs": []
    },
    {
      "cell_type": "code",
      "metadata": {
        "id": "wMqLeHHrZOOg",
        "colab_type": "code",
        "colab": {}
      },
      "source": [
        "!pwd"
      ],
      "execution_count": 0,
      "outputs": []
    },
    {
      "cell_type": "code",
      "metadata": {
        "id": "O5TcI_IiZQcA",
        "colab_type": "code",
        "colab": {}
      },
      "source": [
        ""
      ],
      "execution_count": 0,
      "outputs": []
    },
    {
      "cell_type": "code",
      "metadata": {
        "id": "F6XPmT70XJfy",
        "colab_type": "code",
        "colab": {}
      },
      "source": [
        "face2face_img = filenames_to_list(\"/content/drive/My Drive/FakeImageDetector/data/manipulated_sequences/Face2Face/c23/images/\")\n",
        "print(len(face2face_img))"
      ],
      "execution_count": 0,
      "outputs": []
    },
    {
      "cell_type": "code",
      "metadata": {
        "id": "jRvoJhsBYKAr",
        "colab_type": "code",
        "colab": {}
      },
      "source": [
        "face2face_faces = filenames_to_list(\"/content/drive/My Drive/FakeImageDetector/data/manipulated_sequences/Face2Face/c23/faces/\")\n",
        "print(len(face2face_faces))"
      ],
      "execution_count": 0,
      "outputs": []
    },
    {
      "cell_type": "code",
      "metadata": {
        "id": "rksOLKIiaW58",
        "colab_type": "code",
        "colab": {}
      },
      "source": [
        "faceswap_img = filenames_to_list(\"/content/drive/My Drive/FakeImageDetector/data/manipulated_sequences/FaceSwap/c23/images/\")\n",
        "print(len(faceswap_img))"
      ],
      "execution_count": 0,
      "outputs": []
    },
    {
      "cell_type": "code",
      "metadata": {
        "id": "6CQky38hfAmS",
        "colab_type": "code",
        "colab": {}
      },
      "source": [
        ""
      ],
      "execution_count": 0,
      "outputs": []
    },
    {
      "cell_type": "code",
      "metadata": {
        "id": "VW_QRnoibBtb",
        "colab_type": "code",
        "colab": {}
      },
      "source": [
        "faceswap_faces = filenames_to_list(\"/content/drive/My Drive/FakeImageDetector/data/manipulated_sequences/FaceSwap/c23/faces/\")\n",
        "print(len(faceswap_faces))"
      ],
      "execution_count": 0,
      "outputs": []
    },
    {
      "cell_type": "code",
      "metadata": {
        "id": "hE8We7_fckLx",
        "colab_type": "code",
        "colab": {}
      },
      "source": [
        "def count_img(imglist):\n",
        "    img_count_dict = {}\n",
        "    for f in imglist:\n",
        "        if f[:7] in img_count_dict:\n",
        "            img_count_dict[f[:7]].append(f)\n",
        "        else:\n",
        "            img_count_dict[f[:7]] = [f]\n",
        "    return img_count_dict"
      ],
      "execution_count": 0,
      "outputs": []
    },
    {
      "cell_type": "code",
      "metadata": {
        "id": "SZcVG1vuhfZc",
        "colab_type": "code",
        "colab": {}
      },
      "source": [
        "face2face_img_dict = count_img(face2face_img)\n"
      ],
      "execution_count": 0,
      "outputs": []
    },
    {
      "cell_type": "code",
      "metadata": {
        "id": "4mw7TvDdhlZW",
        "colab_type": "code",
        "colab": {}
      },
      "source": [
        "print(face2face_img_dict)"
      ],
      "execution_count": 0,
      "outputs": []
    },
    {
      "cell_type": "code",
      "metadata": {
        "id": "nDjJFyYzhp82",
        "colab_type": "code",
        "colab": {}
      },
      "source": [
        "faceswap_img_dict = count_img(faceswap_img)\n",
        "print(faceswap_img_dict)"
      ],
      "execution_count": 0,
      "outputs": []
    },
    {
      "cell_type": "code",
      "metadata": {
        "id": "xCcpMe9Zb2Yb",
        "colab_type": "code",
        "colab": {}
      },
      "source": [
        "import subprocess\n",
        "\n",
        "def get_length(filename):\n",
        "    result = subprocess.run([\"ffprobe\", \"-v\", \"error\", \"-show_entries\",\n",
        "                             \"format=duration\", \"-of\",\n",
        "                             \"default=noprint_wrappers=1:nokey=1\", filename],\n",
        "        stdout=subprocess.PIPE,\n",
        "        stderr=subprocess.STDOUT)\n",
        "    return float(result.stdout)"
      ],
      "execution_count": 0,
      "outputs": []
    },
    {
      "cell_type": "code",
      "metadata": {
        "id": "rwK_H-C4hyv-",
        "colab_type": "code",
        "colab": {}
      },
      "source": [
        "for k,v in face2face_img_dict.items():\n",
        "  if k not in faceswap_img_dict:\n",
        "    print(\"These images are not there\")\n",
        "    print(k)\n",
        "  else:\n",
        "    print(k, len(v), len(faceswap_img_dict[k]))"
      ],
      "execution_count": 0,
      "outputs": []
    },
    {
      "cell_type": "code",
      "metadata": {
        "id": "1mdf8b7ijYXW",
        "colab_type": "code",
        "colab": {}
      },
      "source": [
        "096_101 20 9"
      ],
      "execution_count": 0,
      "outputs": []
    },
    {
      "cell_type": "code",
      "metadata": {
        "id": "DXhhQuIDjgbm",
        "colab_type": "code",
        "colab": {}
      },
      "source": [
        "from matplotlib import pyplot as plt\n",
        "import cv2\n",
        "\n",
        "dir_face2face = \"/content/drive/My Drive/FakeImageDetector/data/manipulated_sequences/Face2Face/c23/images/\"\n",
        "for img in face2face_img_dict['096_101']:\n",
        "  img_name = dir_face2face+img\n",
        "  img_raw = cv2.imread(img_name)\n",
        "\n",
        "\n",
        "  plt.imshow(img_raw)\n",
        "  plt.show()"
      ],
      "execution_count": 0,
      "outputs": []
    },
    {
      "cell_type": "code",
      "metadata": {
        "id": "IY2lum9Okgtd",
        "colab_type": "code",
        "colab": {}
      },
      "source": [
        "dir_faceswap = \"/content/drive/My Drive/FakeImageDetector/data/manipulated_sequences/FaceSwap/c23/images/\"\n",
        "for img in faceswap_img_dict['096_101']:\n",
        "  img_name = dir_faceswap+img\n",
        "  img_raw = cv2.imread(img_name)\n",
        "\n",
        "\n",
        "  plt.imshow(img_raw)\n",
        "  plt.show()"
      ],
      "execution_count": 0,
      "outputs": []
    },
    {
      "cell_type": "code",
      "metadata": {
        "id": "W35q3DtSzRqW",
        "colab_type": "code",
        "colab": {}
      },
      "source": [
        "from os import listdir\n",
        "from os.path import isfile, join\n",
        "mypath = \"/content/drive/My Drive/FakeImageDetector/data/manipulated_sequences/NeuralTextures/c23/videos/\"\n",
        "onlyfiles = [f for f in listdir(mypath) if isfile(join(mypath, f))]\n",
        "print(onlyfiles)"
      ],
      "execution_count": 0,
      "outputs": []
    },
    {
      "cell_type": "code",
      "metadata": {
        "id": "Nb3_V_Ln0WWS",
        "colab_type": "code",
        "colab": {}
      },
      "source": [
        "manipulations = ['DeepFakeDetection', 'Deepfakes', 'Face2Face', 'FaceSwap', 'NeuralTextures']\n",
        "man_names = {}\n",
        "import copy\n",
        "for m in manipulations:\n",
        "  mypath =  \"/content/drive/My Drive/FakeImageDetector/data/manipulated_sequences/\"+m+\"/c23/videos/\"\n",
        "  onlyfiles = [f for f in listdir(mypath) if isfile(join(mypath, f))]\n",
        "  man_names[m] = copy.deepcopy(onlyfiles)\n",
        "print(man_names)\n"
      ],
      "execution_count": 0,
      "outputs": []
    },
    {
      "cell_type": "code",
      "metadata": {
        "id": "2OHWMUUe4mJ2",
        "colab_type": "code",
        "colab": {}
      },
      "source": [
        "def Diff(li1, li2): \n",
        "    return (list(set(li1) - set(li2))) \n",
        "  \n",
        "print(Diff(man_names['Deepfakes'], man_names['Face2Face']))"
      ],
      "execution_count": 0,
      "outputs": []
    },
    {
      "cell_type": "code",
      "metadata": {
        "id": "65o8503G5Jxn",
        "colab_type": "code",
        "colab": {}
      },
      "source": [
        "print(Diff(man_names['Deepfakes'], man_names['FaceSwap']))"
      ],
      "execution_count": 0,
      "outputs": []
    },
    {
      "cell_type": "code",
      "metadata": {
        "id": "A-DirwNI5O2f",
        "colab_type": "code",
        "colab": {}
      },
      "source": [
        "print(Diff(man_names['Deepfakes'], man_names['NeuralTextures']))"
      ],
      "execution_count": 0,
      "outputs": []
    },
    {
      "cell_type": "code",
      "metadata": {
        "id": "RSZTh25Z3X-e",
        "colab_type": "code",
        "colab": {}
      },
      "source": [
        "import copy\n",
        "d = {}\n",
        "for i in range(4):\n",
        "  l = [i]*i\n",
        "  d[i] = copy.deepcopy(l)\n",
        "print(d)\n",
        "\n"
      ],
      "execution_count": 0,
      "outputs": []
    },
    {
      "cell_type": "code",
      "metadata": {
        "id": "4IT2hqg1Lphk",
        "colab_type": "code",
        "colab": {}
      },
      "source": [
        ""
      ],
      "execution_count": 0,
      "outputs": []
    },
    {
      "cell_type": "code",
      "metadata": {
        "id": "ucC2pV7n7zL0",
        "colab_type": "code",
        "colab": {}
      },
      "source": [
        "!bash \"/content/drive/My Drive/FakeImageDetector/video_to_images.sh\""
      ],
      "execution_count": 0,
      "outputs": []
    },
    {
      "cell_type": "code",
      "metadata": {
        "id": "N3lQ63EjBRJU",
        "colab_type": "code",
        "colab": {}
      },
      "source": [
        "!cd ./content/drive"
      ],
      "execution_count": 0,
      "outputs": []
    },
    {
      "cell_type": "code",
      "metadata": {
        "id": "MYH9Y6VU5Id8",
        "colab_type": "code",
        "colab": {}
      },
      "source": [
        "!cd /content/drive"
      ],
      "execution_count": 0,
      "outputs": []
    },
    {
      "cell_type": "code",
      "metadata": {
        "id": "TVRQt6Zd5LOx",
        "colab_type": "code",
        "colab": {}
      },
      "source": [
        "!pwd"
      ],
      "execution_count": 0,
      "outputs": []
    },
    {
      "cell_type": "code",
      "metadata": {
        "id": "WnxJ6QS37Zii",
        "colab_type": "code",
        "colab": {}
      },
      "source": [
        "!ls \"/content/drive/My Drive/FakeImageDetector/data/original_sequences/faces/\" -1 | wc -l"
      ],
      "execution_count": 0,
      "outputs": []
    },
    {
      "cell_type": "code",
      "metadata": {
        "id": "xzFP6SKO-oiw",
        "colab_type": "code",
        "colab": {}
      },
      "source": [
        ""
      ],
      "execution_count": 0,
      "outputs": []
    },
    {
      "cell_type": "code",
      "metadata": {
        "id": "ixrIOGHD7uCz",
        "colab_type": "code",
        "colab": {}
      },
      "source": [
        "!ls \"/content/drive/My Drive/FakeImageDetector/data/manipulated_sequences/NeuralTextures/c23/faces/\" -1 | wc -l"
      ],
      "execution_count": 0,
      "outputs": []
    },
    {
      "cell_type": "code",
      "metadata": {
        "id": "w7MQWkCUGDuk",
        "colab_type": "code",
        "colab": {}
      },
      "source": [
        "!ls \"/content/drive/My Drive/FakeImageDetector/data/manipulated_sequences/FaceSwap/c23/images/\" -1 | wc -l"
      ],
      "execution_count": 0,
      "outputs": []
    },
    {
      "cell_type": "code",
      "metadata": {
        "id": "NsrWKMu9GQ1T",
        "colab_type": "code",
        "colab": {}
      },
      "source": [
        "!ls \"/content/drive/My Drive/FakeImageDetector/data/manipulated_sequences/Face2Face/c23/images/\" -1 | wc -l"
      ],
      "execution_count": 0,
      "outputs": []
    },
    {
      "cell_type": "code",
      "metadata": {
        "id": "u4LdSOM-GY9q",
        "colab_type": "code",
        "colab": {}
      },
      "source": [
        ""
      ],
      "execution_count": 0,
      "outputs": []
    },
    {
      "cell_type": "code",
      "metadata": {
        "id": "d6fzRBOo9Vof",
        "colab_type": "code",
        "colab": {}
      },
      "source": [
        "!ls \"/content/drive/My Drive/FakeImageDetector/data/manipulated_sequences/FaceSwap/c23/videos/275_887.mp4\" -l"
      ],
      "execution_count": 0,
      "outputs": []
    },
    {
      "cell_type": "code",
      "metadata": {
        "id": "umnBu-9TQFx1",
        "colab_type": "code",
        "colab": {}
      },
      "source": [
        "!tar cfv \"/content/drive/My Drive/FakeImageDetector/data/manipulated_sequences/Face2Face/c23/images.tar\" \"/content/drive/My Drive/FakeImageDetector/data/manipulated_sequences/Face2Face/c23/images\""
      ],
      "execution_count": 0,
      "outputs": []
    },
    {
      "cell_type": "code",
      "metadata": {
        "id": "9XgDxZvmSRLq",
        "colab_type": "code",
        "colab": {}
      },
      "source": [
        "!ls -l \"/content/drive/My Drive/FakeImageDetector/data/manipulated_sequences/FaceSwap/c23/videos.tar\""
      ],
      "execution_count": 0,
      "outputs": []
    },
    {
      "cell_type": "code",
      "metadata": {
        "id": "utBm9ajw5M-l",
        "colab_type": "code",
        "colab": {}
      },
      "source": [
        "!ls \"/content/drive/My Drive/FakeImageDetector/data/manipulated_sequences/DeepFakeDetection/c23/videos/\""
      ],
      "execution_count": 0,
      "outputs": []
    },
    {
      "cell_type": "code",
      "metadata": {
        "id": "bp-CiZgM9xH1",
        "colab_type": "code",
        "colab": {}
      },
      "source": [
        "!rm -rf \"/content/drive/My Drive/FakeImageDetector/data/manipulated_sequences/DeepFakeDetection/c23/images/*.jpeg\""
      ],
      "execution_count": 0,
      "outputs": []
    },
    {
      "cell_type": "code",
      "metadata": {
        "id": "ifyEjbDDALwa",
        "colab_type": "code",
        "colab": {}
      },
      "source": [
        "!ls \"/content/drive/My Drive/FakeImageDetector/data/manipulated_sequences/DeepFakeDetection/c23/images/\""
      ],
      "execution_count": 0,
      "outputs": []
    },
    {
      "cell_type": "code",
      "metadata": {
        "id": "DKJ-i7AyAQX1",
        "colab_type": "code",
        "colab": {}
      },
      "source": [
        "!bash \"/content/drive/My Drive/FakeImageDetector/remove_jpeg.sh\""
      ],
      "execution_count": 0,
      "outputs": []
    },
    {
      "cell_type": "code",
      "metadata": {
        "id": "9qU1ZO3VBbaT",
        "colab_type": "code",
        "colab": {}
      },
      "source": [
        "!ls \"/content/drive/My Drive/FakeImageDetector/data/manipulated_sequences/DeepFakeDetection/c23/images/\""
      ],
      "execution_count": 0,
      "outputs": []
    },
    {
      "cell_type": "code",
      "metadata": {
        "id": "5RNiSijHGYGA",
        "colab_type": "code",
        "colab": {}
      },
      "source": [
        "!pwd"
      ],
      "execution_count": 0,
      "outputs": []
    },
    {
      "cell_type": "code",
      "metadata": {
        "id": "6lPYYdeLwZJ8",
        "colab_type": "code",
        "colab": {}
      },
      "source": [
        "from google.colab import drive\n",
        "drive.mount('/content/drive', force_remount=True)\n",
        "!ls '/content/drive/My Drive'\n"
      ],
      "execution_count": 0,
      "outputs": []
    },
    {
      "cell_type": "code",
      "metadata": {
        "id": "jd8qZZjlvHvk",
        "colab_type": "code",
        "colab": {}
      },
      "source": [
        "!python \"/content/drive/My Drive/FakeImageDetector/video_to_real_images.py\" \"/content/drive/My Drive/FakeImageDetector/data/original_sequences/youtube/c23/videos/\""
      ],
      "execution_count": 0,
      "outputs": []
    },
    {
      "cell_type": "markdown",
      "metadata": {
        "id": "SZmD-PhkTtre",
        "colab_type": "text"
      },
      "source": [
        "# New Section"
      ]
    },
    {
      "cell_type": "markdown",
      "metadata": {
        "id": "p0ZExQMRT8LZ",
        "colab_type": "text"
      },
      "source": [
        "# New Section"
      ]
    },
    {
      "cell_type": "markdown",
      "metadata": {
        "id": "3nDvZKVrUK06",
        "colab_type": "text"
      },
      "source": [
        "# New Section"
      ]
    },
    {
      "cell_type": "markdown",
      "metadata": {
        "id": "0LbchM5GUZeb",
        "colab_type": "text"
      },
      "source": [
        "# New Section"
      ]
    },
    {
      "cell_type": "markdown",
      "metadata": {
        "id": "NsrrqtmYUoH6",
        "colab_type": "text"
      },
      "source": [
        "# New Section"
      ]
    },
    {
      "cell_type": "markdown",
      "metadata": {
        "id": "15bS1_7-U265",
        "colab_type": "text"
      },
      "source": [
        "# New Section"
      ]
    },
    {
      "cell_type": "markdown",
      "metadata": {
        "id": "swxzAzDXVFkb",
        "colab_type": "text"
      },
      "source": [
        "# New Section"
      ]
    },
    {
      "cell_type": "markdown",
      "metadata": {
        "id": "ttmTswOgVUN6",
        "colab_type": "text"
      },
      "source": [
        "# New Section"
      ]
    },
    {
      "cell_type": "markdown",
      "metadata": {
        "id": "Ylfwg6F6Vi3c",
        "colab_type": "text"
      },
      "source": [
        "# New Section"
      ]
    },
    {
      "cell_type": "markdown",
      "metadata": {
        "id": "QHEYnDeWVxg4",
        "colab_type": "text"
      },
      "source": [
        "# New Section"
      ]
    },
    {
      "cell_type": "markdown",
      "metadata": {
        "id": "dpXMe0r4WAKY",
        "colab_type": "text"
      },
      "source": [
        "# New Section"
      ]
    },
    {
      "cell_type": "markdown",
      "metadata": {
        "id": "-eSrhgUVWOz7",
        "colab_type": "text"
      },
      "source": [
        "# New Section"
      ]
    },
    {
      "cell_type": "markdown",
      "metadata": {
        "id": "6kYh8vwaWddf",
        "colab_type": "text"
      },
      "source": [
        "# New Section"
      ]
    },
    {
      "cell_type": "markdown",
      "metadata": {
        "id": "TNR6eCUXWsG7",
        "colab_type": "text"
      },
      "source": [
        "# New Section"
      ]
    },
    {
      "cell_type": "markdown",
      "metadata": {
        "id": "p_ngMewPW6wY",
        "colab_type": "text"
      },
      "source": [
        "# New Section"
      ]
    },
    {
      "cell_type": "markdown",
      "metadata": {
        "id": "3PahovQzXJZ7",
        "colab_type": "text"
      },
      "source": [
        "# New Section"
      ]
    },
    {
      "cell_type": "markdown",
      "metadata": {
        "id": "6u2x9YJoXYDa",
        "colab_type": "text"
      },
      "source": [
        "# New Section"
      ]
    },
    {
      "cell_type": "markdown",
      "metadata": {
        "id": "3AOqArVhXms5",
        "colab_type": "text"
      },
      "source": [
        "# New Section"
      ]
    },
    {
      "cell_type": "markdown",
      "metadata": {
        "id": "knpt7tJiX1WY",
        "colab_type": "text"
      },
      "source": [
        "# New Section"
      ]
    },
    {
      "cell_type": "markdown",
      "metadata": {
        "id": "GQwn0V5tYEAG",
        "colab_type": "text"
      },
      "source": [
        "# New Section"
      ]
    },
    {
      "cell_type": "markdown",
      "metadata": {
        "id": "CdBRONp-YSpb",
        "colab_type": "text"
      },
      "source": [
        "# New Section"
      ]
    },
    {
      "cell_type": "markdown",
      "metadata": {
        "id": "SWciwwtFYhS9",
        "colab_type": "text"
      },
      "source": [
        "# New Section"
      ]
    },
    {
      "cell_type": "markdown",
      "metadata": {
        "id": "LhnGO_8bYv8e",
        "colab_type": "text"
      },
      "source": [
        "# New Section"
      ]
    },
    {
      "cell_type": "markdown",
      "metadata": {
        "id": "_foc6AfoY-l5",
        "colab_type": "text"
      },
      "source": [
        "# New Section"
      ]
    },
    {
      "cell_type": "markdown",
      "metadata": {
        "id": "22adUAn7ZNPY",
        "colab_type": "text"
      },
      "source": [
        "# New Section"
      ]
    },
    {
      "cell_type": "markdown",
      "metadata": {
        "id": "Cz4ehaAwZb45",
        "colab_type": "text"
      },
      "source": [
        "# New Section"
      ]
    },
    {
      "cell_type": "markdown",
      "metadata": {
        "id": "eDprSgS6Zqia",
        "colab_type": "text"
      },
      "source": [
        "# New Section"
      ]
    },
    {
      "cell_type": "markdown",
      "metadata": {
        "id": "OikqNFo1Z5L7",
        "colab_type": "text"
      },
      "source": [
        "# New Section"
      ]
    },
    {
      "cell_type": "markdown",
      "metadata": {
        "id": "uI7HDTdhaH1g",
        "colab_type": "text"
      },
      "source": [
        "# New Section"
      ]
    },
    {
      "cell_type": "markdown",
      "metadata": {
        "id": "dq3s_8lpaWe6",
        "colab_type": "text"
      },
      "source": [
        "# New Section"
      ]
    },
    {
      "cell_type": "markdown",
      "metadata": {
        "id": "r6W_9ytJalIb",
        "colab_type": "text"
      },
      "source": [
        "# New Section"
      ]
    },
    {
      "cell_type": "markdown",
      "metadata": {
        "id": "Gq_KZDUVazx4",
        "colab_type": "text"
      },
      "source": [
        "# New Section"
      ]
    },
    {
      "cell_type": "markdown",
      "metadata": {
        "id": "lJfqov11bCba",
        "colab_type": "text"
      },
      "source": [
        "# New Section"
      ]
    },
    {
      "cell_type": "markdown",
      "metadata": {
        "id": "BIpL44LbbRE5",
        "colab_type": "text"
      },
      "source": [
        "# New Section"
      ]
    },
    {
      "cell_type": "markdown",
      "metadata": {
        "id": "2iIG6Ns4bfuZ",
        "colab_type": "text"
      },
      "source": [
        "# New Section"
      ]
    },
    {
      "cell_type": "markdown",
      "metadata": {
        "id": "b6WzGtNrbuX5",
        "colab_type": "text"
      },
      "source": [
        "# New Section"
      ]
    },
    {
      "cell_type": "markdown",
      "metadata": {
        "id": "nVgfaykCb9Ba",
        "colab_type": "text"
      },
      "source": [
        "# New Section"
      ]
    },
    {
      "cell_type": "markdown",
      "metadata": {
        "id": "wtc4u324cLq4",
        "colab_type": "text"
      },
      "source": [
        "# New Section"
      ]
    },
    {
      "cell_type": "markdown",
      "metadata": {
        "id": "v1aHrsqTcaUb",
        "colab_type": "text"
      },
      "source": [
        "# New Section"
      ]
    },
    {
      "cell_type": "markdown",
      "metadata": {
        "id": "q4ug1QiBco95",
        "colab_type": "text"
      },
      "source": [
        "# New Section"
      ]
    },
    {
      "cell_type": "markdown",
      "metadata": {
        "id": "y4EmfWMTc3nc",
        "colab_type": "text"
      },
      "source": [
        "# New Section"
      ]
    },
    {
      "cell_type": "markdown",
      "metadata": {
        "id": "OSeLK-rJdGQ9",
        "colab_type": "text"
      },
      "source": [
        "# New Section"
      ]
    },
    {
      "cell_type": "markdown",
      "metadata": {
        "id": "mWk1LvUBdU64",
        "colab_type": "text"
      },
      "source": [
        "# New Section"
      ]
    },
    {
      "cell_type": "markdown",
      "metadata": {
        "id": "pmjH6Ffqdjj8",
        "colab_type": "text"
      },
      "source": [
        "# New Section"
      ]
    },
    {
      "cell_type": "markdown",
      "metadata": {
        "id": "xB5QTSiZdyNd",
        "colab_type": "text"
      },
      "source": [
        "# New Section"
      ]
    },
    {
      "cell_type": "markdown",
      "metadata": {
        "id": "PUJoq4TaeA25",
        "colab_type": "text"
      },
      "source": [
        "# New Section"
      ]
    },
    {
      "cell_type": "markdown",
      "metadata": {
        "id": "v--5rDZ5ePgi",
        "colab_type": "text"
      },
      "source": [
        "# New Section"
      ]
    },
    {
      "cell_type": "markdown",
      "metadata": {
        "id": "oZyAT69CeeJ8",
        "colab_type": "text"
      },
      "source": [
        "# New Section"
      ]
    },
    {
      "cell_type": "markdown",
      "metadata": {
        "id": "3n08kxzyeszd",
        "colab_type": "text"
      },
      "source": [
        "# New Section"
      ]
    },
    {
      "cell_type": "markdown",
      "metadata": {
        "id": "mic5nVBQe7c_",
        "colab_type": "text"
      },
      "source": [
        "# New Section"
      ]
    },
    {
      "cell_type": "markdown",
      "metadata": {
        "id": "BLAr_MLmfKGb",
        "colab_type": "text"
      },
      "source": [
        "# New Section"
      ]
    },
    {
      "cell_type": "markdown",
      "metadata": {
        "id": "bTLvBbX4fYv7",
        "colab_type": "text"
      },
      "source": [
        "# New Section"
      ]
    },
    {
      "cell_type": "markdown",
      "metadata": {
        "id": "CPvc4QAMfnZb",
        "colab_type": "text"
      },
      "source": [
        "# New Section"
      ]
    },
    {
      "cell_type": "markdown",
      "metadata": {
        "id": "rkWV2znRf2DC",
        "colab_type": "text"
      },
      "source": [
        "# New Section"
      ]
    },
    {
      "cell_type": "markdown",
      "metadata": {
        "id": "SqUoy3YhgEsc",
        "colab_type": "text"
      },
      "source": [
        "# New Section"
      ]
    },
    {
      "cell_type": "markdown",
      "metadata": {
        "id": "QerwXJlxlG9Z",
        "colab_type": "text"
      },
      "source": [
        "# New Section"
      ]
    },
    {
      "cell_type": "code",
      "metadata": {
        "id": "ACnOOM1LIdCd",
        "colab_type": "code",
        "colab": {}
      },
      "source": [
        "!python \"/content/drive/My Drive/FakeImageDetector/video_to_real_images.py\" \"/content/drive/My Drive/FakeImageDetector/data/original_sequences/actors/c23/videos/\""
      ],
      "execution_count": 0,
      "outputs": []
    }
  ]
}