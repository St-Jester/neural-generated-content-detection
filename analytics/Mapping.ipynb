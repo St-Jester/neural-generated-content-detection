{
  "nbformat": 4,
  "nbformat_minor": 0,
  "metadata": {
    "colab": {
      "name": "Mapping.ipynb",
      "provenance": [],
      "collapsed_sections": [],
      "authorship_tag": "ABX9TyMM+3zpwgc6JyCZy6wgqfFF",
      "include_colab_link": true
    },
    "kernelspec": {
      "name": "python3",
      "display_name": "Python 3"
    }
  },
  "cells": [
    {
      "cell_type": "markdown",
      "metadata": {
        "id": "view-in-github",
        "colab_type": "text"
      },
      "source": [
        "<a href=\"https://colab.research.google.com/github/St-Jester/neural-generated-content-detection/blob/master/analytics/Mapping.ipynb\" target=\"_parent\"><img src=\"https://colab.research.google.com/assets/colab-badge.svg\" alt=\"Open In Colab\"/></a>"
      ]
    },
    {
      "cell_type": "code",
      "metadata": {
        "id": "DinwQu0Z1u7j",
        "colab_type": "code",
        "colab": {}
      },
      "source": [
        "import time\n",
        "import os\n",
        "import pandas as pd\n",
        "from IPython.display import Image\n",
        "import numpy as np\n",
        "import matplotlib.pyplot as plt\n"
      ],
      "execution_count": 0,
      "outputs": []
    },
    {
      "cell_type": "code",
      "metadata": {
        "id": "sfVjEZSu1oG1",
        "colab_type": "code",
        "outputId": "b76aec24-4a61-43a7-e0c4-b1f91c87d652",
        "colab": {
          "base_uri": "https://localhost:8080/",
          "height": 34
        }
      },
      "source": [
        "from google.colab import drive\n",
        "drive.mount('/content/drive', force_remount=True)"
      ],
      "execution_count": 0,
      "outputs": [
        {
          "output_type": "stream",
          "text": [
            "Mounted at /content/drive\n"
          ],
          "name": "stdout"
        }
      ]
    },
    {
      "cell_type": "code",
      "metadata": {
        "id": "DLJduGs3OPG_",
        "colab_type": "code",
        "colab": {}
      },
      "source": [
        "def get_filename(full_path):\n",
        "  filename_full = os.path.basename(os.path.normpath(full_path))\n",
        "  s = filename_full.split(\".\")[:-2]\n",
        "  listToStr = '.'.join([str(elem) for elem in s])\n",
        "  return listToStr\n",
        "\n",
        "def get_index(filename, source_data):\n",
        "  indexes = source_data['filename'].str.find(filename)\n",
        "  index = indexes.sort_values(ascending=False).head(1).index\n",
        "  return index"
      ],
      "execution_count": 0,
      "outputs": []
    },
    {
      "cell_type": "code",
      "metadata": {
        "id": "1xGXWaguOHO1",
        "colab_type": "code",
        "colab": {}
      },
      "source": [
        "# os.path.basename(os.path.normpath(faces_data['filename'][0]))\n",
        "# faces_data['filename'][0]\n",
        "# os.path.basename(os.path.normpath(image_data['filename'][0]))\n",
        "# faces_data['filename'][0]"
      ],
      "execution_count": 0,
      "outputs": []
    },
    {
      "cell_type": "code",
      "metadata": {
        "id": "awOXFU2aIAOF",
        "colab_type": "code",
        "outputId": "a6b28a6e-2bf7-4061-9e39-2cc86d20b8b8",
        "colab": {
          "base_uri": "https://localhost:8080/",
          "height": 34
        }
      },
      "source": [
        "faces_csv_path = '/content/drive/My Drive/FakeImageDetector/dataset/dataset_faces_new.csv'\n",
        "faces_data = pd.read_csv(faces_csv_path)\n",
        "image_data = pd.read_csv('/content/drive/My Drive/FakeImageDetector/dataset/dataset_tvt_copy.csv')\n",
        "faces_index = 0\n",
        "faces_data['filename'][faces_index]\n"
      ],
      "execution_count": 0,
      "outputs": [
        {
          "output_type": "execute_result",
          "data": {
            "text/plain": [
              "'/content/drive/My Drive/FakeImageDetector/data/manipulated_sequences/DeepFakeDetection/c23/faces/14_21__exit_phone_room__IRKML4J0_14.bmp.jpg'"
            ]
          },
          "metadata": {
            "tags": []
          },
          "execution_count": 8
        }
      ]
    },
    {
      "cell_type": "code",
      "metadata": {
        "id": "qaPeTfZEvmbj",
        "colab_type": "code",
        "outputId": "1eeedca4-e01d-4f33-91fb-9be85ab84f4a",
        "colab": {
          "base_uri": "https://localhost:8080/",
          "height": 419
        }
      },
      "source": [
        "image_data = image_data.drop(['Unnamed: 0'], axis=1)\n",
        "image_data"
      ],
      "execution_count": 0,
      "outputs": [
        {
          "output_type": "execute_result",
          "data": {
            "text/html": [
              "<div>\n",
              "<style scoped>\n",
              "    .dataframe tbody tr th:only-of-type {\n",
              "        vertical-align: middle;\n",
              "    }\n",
              "\n",
              "    .dataframe tbody tr th {\n",
              "        vertical-align: top;\n",
              "    }\n",
              "\n",
              "    .dataframe thead th {\n",
              "        text-align: right;\n",
              "    }\n",
              "</style>\n",
              "<table border=\"1\" class=\"dataframe\">\n",
              "  <thead>\n",
              "    <tr style=\"text-align: right;\">\n",
              "      <th></th>\n",
              "      <th>filename</th>\n",
              "      <th>imgname</th>\n",
              "      <th>fake_real_name</th>\n",
              "      <th>target_source</th>\n",
              "      <th>age</th>\n",
              "      <th>age_cat</th>\n",
              "      <th>gender</th>\n",
              "      <th>gender10</th>\n",
              "      <th>gender_age_cat</th>\n",
              "      <th>train</th>\n",
              "    </tr>\n",
              "  </thead>\n",
              "  <tbody>\n",
              "    <tr>\n",
              "      <th>0</th>\n",
              "      <td>/content/drive/My Drive/FakeImageDetector/real...</td>\n",
              "      <td>21__outside_talking_still_laughing.mp4_image6.jpg</td>\n",
              "      <td>real_images</td>\n",
              "      <td>21</td>\n",
              "      <td>32.637210</td>\n",
              "      <td>age_30_40</td>\n",
              "      <td>0.061687</td>\n",
              "      <td>0</td>\n",
              "      <td>0_age_30_40</td>\n",
              "      <td>train</td>\n",
              "    </tr>\n",
              "    <tr>\n",
              "      <th>1</th>\n",
              "      <td>/content/drive/My Drive/FakeImageDetector/real...</td>\n",
              "      <td>21__outside_talking_still_laughing.mp4_image7.jpg</td>\n",
              "      <td>real_images</td>\n",
              "      <td>21</td>\n",
              "      <td>31.867521</td>\n",
              "      <td>age_30_40</td>\n",
              "      <td>0.063749</td>\n",
              "      <td>0</td>\n",
              "      <td>0_age_30_40</td>\n",
              "      <td>train</td>\n",
              "    </tr>\n",
              "    <tr>\n",
              "      <th>2</th>\n",
              "      <td>/content/drive/My Drive/FakeImageDetector/real...</td>\n",
              "      <td>21__outside_talking_still_laughing.mp4_image8.jpg</td>\n",
              "      <td>real_images</td>\n",
              "      <td>21</td>\n",
              "      <td>34.179979</td>\n",
              "      <td>age_30_40</td>\n",
              "      <td>0.032942</td>\n",
              "      <td>0</td>\n",
              "      <td>0_age_30_40</td>\n",
              "      <td>train</td>\n",
              "    </tr>\n",
              "    <tr>\n",
              "      <th>3</th>\n",
              "      <td>/content/drive/My Drive/FakeImageDetector/real...</td>\n",
              "      <td>21__outside_talking_still_laughing.mp4_image9.jpg</td>\n",
              "      <td>real_images</td>\n",
              "      <td>21</td>\n",
              "      <td>33.717182</td>\n",
              "      <td>age_30_40</td>\n",
              "      <td>0.026315</td>\n",
              "      <td>0</td>\n",
              "      <td>0_age_30_40</td>\n",
              "      <td>train</td>\n",
              "    </tr>\n",
              "    <tr>\n",
              "      <th>4</th>\n",
              "      <td>/content/drive/My Drive/FakeImageDetector/real...</td>\n",
              "      <td>21__outside_talking_still_laughing.mp4_image10...</td>\n",
              "      <td>real_images</td>\n",
              "      <td>21</td>\n",
              "      <td>37.760803</td>\n",
              "      <td>age_30_40</td>\n",
              "      <td>0.055017</td>\n",
              "      <td>0</td>\n",
              "      <td>0_age_30_40</td>\n",
              "      <td>train</td>\n",
              "    </tr>\n",
              "    <tr>\n",
              "      <th>...</th>\n",
              "      <td>...</td>\n",
              "      <td>...</td>\n",
              "      <td>...</td>\n",
              "      <td>...</td>\n",
              "      <td>...</td>\n",
              "      <td>...</td>\n",
              "      <td>...</td>\n",
              "      <td>...</td>\n",
              "      <td>...</td>\n",
              "      <td>...</td>\n",
              "    </tr>\n",
              "    <tr>\n",
              "      <th>55797</th>\n",
              "      <td>/content/drive/My Drive/FakeImageDetector/data...</td>\n",
              "      <td>168_222.mp4_10.jpg</td>\n",
              "      <td>Deepfakes</td>\n",
              "      <td>168_222</td>\n",
              "      <td>28.580337</td>\n",
              "      <td>age_20_30</td>\n",
              "      <td>0.940236</td>\n",
              "      <td>1</td>\n",
              "      <td>1_age_20_30</td>\n",
              "      <td>test</td>\n",
              "    </tr>\n",
              "    <tr>\n",
              "      <th>55798</th>\n",
              "      <td>/content/drive/My Drive/FakeImageDetector/data...</td>\n",
              "      <td>794_779.mp4_11.jpg</td>\n",
              "      <td>Deepfakes</td>\n",
              "      <td>794_779</td>\n",
              "      <td>37.478779</td>\n",
              "      <td>age_30_40</td>\n",
              "      <td>0.023944</td>\n",
              "      <td>0</td>\n",
              "      <td>0_age_30_40</td>\n",
              "      <td>train</td>\n",
              "    </tr>\n",
              "    <tr>\n",
              "      <th>55799</th>\n",
              "      <td>/content/drive/My Drive/FakeImageDetector/data...</td>\n",
              "      <td>284_263.mp4_8.jpg</td>\n",
              "      <td>Deepfakes</td>\n",
              "      <td>284_263</td>\n",
              "      <td>23.262856</td>\n",
              "      <td>age_20_30</td>\n",
              "      <td>0.970123</td>\n",
              "      <td>1</td>\n",
              "      <td>1_age_20_30</td>\n",
              "      <td>validation</td>\n",
              "    </tr>\n",
              "    <tr>\n",
              "      <th>55800</th>\n",
              "      <td>/content/drive/My Drive/FakeImageDetector/data...</td>\n",
              "      <td>045_889.mp4_1.jpg</td>\n",
              "      <td>Deepfakes</td>\n",
              "      <td>045_889</td>\n",
              "      <td>20.892838</td>\n",
              "      <td>age_20_30</td>\n",
              "      <td>0.981282</td>\n",
              "      <td>1</td>\n",
              "      <td>1_age_20_30</td>\n",
              "      <td>validation</td>\n",
              "    </tr>\n",
              "    <tr>\n",
              "      <th>55801</th>\n",
              "      <td>/content/drive/My Drive/FakeImageDetector/data...</td>\n",
              "      <td>846_845.mp4_6.jpg</td>\n",
              "      <td>Deepfakes</td>\n",
              "      <td>846_845</td>\n",
              "      <td>41.576189</td>\n",
              "      <td>age_40_50</td>\n",
              "      <td>0.134161</td>\n",
              "      <td>0</td>\n",
              "      <td>0_age_40_50</td>\n",
              "      <td>train</td>\n",
              "    </tr>\n",
              "  </tbody>\n",
              "</table>\n",
              "<p>55802 rows × 10 columns</p>\n",
              "</div>"
            ],
            "text/plain": [
              "                                                filename  ...       train\n",
              "0      /content/drive/My Drive/FakeImageDetector/real...  ...       train\n",
              "1      /content/drive/My Drive/FakeImageDetector/real...  ...       train\n",
              "2      /content/drive/My Drive/FakeImageDetector/real...  ...       train\n",
              "3      /content/drive/My Drive/FakeImageDetector/real...  ...       train\n",
              "4      /content/drive/My Drive/FakeImageDetector/real...  ...       train\n",
              "...                                                  ...  ...         ...\n",
              "55797  /content/drive/My Drive/FakeImageDetector/data...  ...        test\n",
              "55798  /content/drive/My Drive/FakeImageDetector/data...  ...       train\n",
              "55799  /content/drive/My Drive/FakeImageDetector/data...  ...  validation\n",
              "55800  /content/drive/My Drive/FakeImageDetector/data...  ...  validation\n",
              "55801  /content/drive/My Drive/FakeImageDetector/data...  ...       train\n",
              "\n",
              "[55802 rows x 10 columns]"
            ]
          },
          "metadata": {
            "tags": []
          },
          "execution_count": 9
        }
      ]
    },
    {
      "cell_type": "code",
      "metadata": {
        "id": "9TCsGF-R2VVw",
        "colab_type": "code",
        "outputId": "493944bc-a9c3-46cc-ba54-d6f0ef8d5a1d",
        "colab": {
          "base_uri": "https://localhost:8080/",
          "height": 255
        }
      },
      "source": [
        "faces_data.describe\n"
      ],
      "execution_count": 0,
      "outputs": [
        {
          "output_type": "execute_result",
          "data": {
            "text/plain": [
              "<bound method NDFrame.describe of        Unnamed: 0  index  ...             method label\n",
              "0               0      0  ...  FakeImageDetector     0\n",
              "1               1      0  ...  FakeImageDetector     0\n",
              "2               2      0  ...  FakeImageDetector     0\n",
              "3               3      0  ...  FakeImageDetector     0\n",
              "4               4      0  ...  FakeImageDetector     0\n",
              "...           ...    ...  ...                ...   ...\n",
              "63284       16035      0  ...               Real     1\n",
              "63285       16036      0  ...               Real     1\n",
              "63286       16037      0  ...               Real     1\n",
              "63287       16038      0  ...               Real     1\n",
              "63288       16039      0  ...               Real     1\n",
              "\n",
              "[63289 rows x 5 columns]>"
            ]
          },
          "metadata": {
            "tags": []
          },
          "execution_count": 10
        }
      ]
    },
    {
      "cell_type": "code",
      "metadata": {
        "id": "o-Rk3mowgMql",
        "colab_type": "code",
        "outputId": "a58a2fcc-2bb6-4f4a-e9a1-86f4d88d4057",
        "colab": {
          "base_uri": "https://localhost:8080/",
          "height": 255
        }
      },
      "source": [
        "image_data.describe"
      ],
      "execution_count": 0,
      "outputs": [
        {
          "output_type": "execute_result",
          "data": {
            "text/plain": [
              "<bound method NDFrame.describe of                                                 filename  ...       train\n",
              "0      /content/drive/My Drive/FakeImageDetector/real...  ...       train\n",
              "1      /content/drive/My Drive/FakeImageDetector/real...  ...       train\n",
              "2      /content/drive/My Drive/FakeImageDetector/real...  ...       train\n",
              "3      /content/drive/My Drive/FakeImageDetector/real...  ...       train\n",
              "4      /content/drive/My Drive/FakeImageDetector/real...  ...       train\n",
              "...                                                  ...  ...         ...\n",
              "55797  /content/drive/My Drive/FakeImageDetector/data...  ...        test\n",
              "55798  /content/drive/My Drive/FakeImageDetector/data...  ...       train\n",
              "55799  /content/drive/My Drive/FakeImageDetector/data...  ...  validation\n",
              "55800  /content/drive/My Drive/FakeImageDetector/data...  ...  validation\n",
              "55801  /content/drive/My Drive/FakeImageDetector/data...  ...       train\n",
              "\n",
              "[55802 rows x 10 columns]>"
            ]
          },
          "metadata": {
            "tags": []
          },
          "execution_count": 11
        }
      ]
    },
    {
      "cell_type": "code",
      "metadata": {
        "id": "-YC-nrhjMiVg",
        "colab_type": "code",
        "outputId": "83bd94b8-06af-4d39-d258-9b600a8fe07c",
        "colab": {
          "base_uri": "https://localhost:8080/",
          "height": 80
        }
      },
      "source": [
        "filename = get_filename(faces_data['filename'][faces_index])\n",
        "\n",
        "index = get_index(filename, image_data)\n",
        "index\n",
        "\n",
        "image_data.loc[index]"
      ],
      "execution_count": 0,
      "outputs": [
        {
          "output_type": "execute_result",
          "data": {
            "text/html": [
              "<div>\n",
              "<style scoped>\n",
              "    .dataframe tbody tr th:only-of-type {\n",
              "        vertical-align: middle;\n",
              "    }\n",
              "\n",
              "    .dataframe tbody tr th {\n",
              "        vertical-align: top;\n",
              "    }\n",
              "\n",
              "    .dataframe thead th {\n",
              "        text-align: right;\n",
              "    }\n",
              "</style>\n",
              "<table border=\"1\" class=\"dataframe\">\n",
              "  <thead>\n",
              "    <tr style=\"text-align: right;\">\n",
              "      <th></th>\n",
              "      <th>filename</th>\n",
              "      <th>imgname</th>\n",
              "      <th>fake_real_name</th>\n",
              "      <th>target_source</th>\n",
              "      <th>age</th>\n",
              "      <th>age_cat</th>\n",
              "      <th>gender</th>\n",
              "      <th>gender10</th>\n",
              "      <th>gender_age_cat</th>\n",
              "      <th>train</th>\n",
              "    </tr>\n",
              "  </thead>\n",
              "  <tbody>\n",
              "    <tr>\n",
              "      <th>36628</th>\n",
              "      <td>/content/drive/My Drive/FakeImageDetector/data...</td>\n",
              "      <td>14_21__exit_phone_room__IRKML4J0_14.bmp</td>\n",
              "      <td>DeepFakeDetection</td>\n",
              "      <td>14_21</td>\n",
              "      <td>28.444819</td>\n",
              "      <td>age_20_30</td>\n",
              "      <td>0.027778</td>\n",
              "      <td>0</td>\n",
              "      <td>0_age_20_30</td>\n",
              "      <td>train</td>\n",
              "    </tr>\n",
              "  </tbody>\n",
              "</table>\n",
              "</div>"
            ],
            "text/plain": [
              "                                                filename  ...  train\n",
              "36628  /content/drive/My Drive/FakeImageDetector/data...  ...  train\n",
              "\n",
              "[1 rows x 10 columns]"
            ]
          },
          "metadata": {
            "tags": []
          },
          "execution_count": 12
        }
      ]
    },
    {
      "cell_type": "code",
      "metadata": {
        "id": "7ohBTAteEjOY",
        "colab_type": "code",
        "outputId": "f16e1523-b437-4c81-f43b-2356c1b972e0",
        "colab": {
          "base_uri": "https://localhost:8080/",
          "height": 34
        }
      },
      "source": [
        "len(image_data.index)"
      ],
      "execution_count": 0,
      "outputs": [
        {
          "output_type": "execute_result",
          "data": {
            "text/plain": [
              "55802"
            ]
          },
          "metadata": {
            "tags": []
          },
          "execution_count": 26
        }
      ]
    },
    {
      "cell_type": "code",
      "metadata": {
        "id": "a7G_8dcf2Y-N",
        "colab_type": "code",
        "colab": {}
      },
      "source": [
        "start_time = time.time()\n",
        "for index, row in faces_data.iterrows():\n",
        "  if (index > len(image_data.index)):\n",
        "    break;\n",
        "  if(index % 1000 == 0):\n",
        "    print(index)\n",
        "  try:\n",
        "    filename = get_filename(row['filename'])\n",
        "    \n",
        "    index_image = get_index(filename, image_data)\n",
        "    image_data.loc[index_image, 'face_path']=row['filename']\n",
        "    image_data.loc[index_image, 'face_method']=row['method']\n",
        "    image_data.loc[index_image, 'face_label']=row['label']\n",
        "    image_data.loc[index_image, 'face_image_name']=filename\n",
        "  except:\n",
        "    print (\"Unexpected error:\", sys.exc_info()[0])\n",
        "print(\"--- %s seconds ---\" % (time.time() - start_time))\n",
        "# print(index_image)"
      ],
      "execution_count": 0,
      "outputs": []
    },
    {
      "cell_type": "code",
      "metadata": {
        "id": "5TswYwm3gSmo",
        "colab_type": "code",
        "outputId": "d73ec421-7312-497c-bb0b-95152a4803bd",
        "colab": {
          "base_uri": "https://localhost:8080/",
          "height": 255
        }
      },
      "source": [
        "# image_data = image_data.dropna()\n",
        "image_data.describe"
      ],
      "execution_count": 0,
      "outputs": [
        {
          "output_type": "execute_result",
          "data": {
            "text/plain": [
              "<bound method NDFrame.describe of                                                 filename  ...                                 face_image_name\n",
              "0      /content/drive/My Drive/FakeImageDetector/real...  ...   21__outside_talking_still_laughing.mp4_image6\n",
              "1      /content/drive/My Drive/FakeImageDetector/real...  ...   21__outside_talking_still_laughing.mp4_image7\n",
              "2      /content/drive/My Drive/FakeImageDetector/real...  ...   21__outside_talking_still_laughing.mp4_image8\n",
              "3      /content/drive/My Drive/FakeImageDetector/real...  ...   21__outside_talking_still_laughing.mp4_image9\n",
              "4      /content/drive/My Drive/FakeImageDetector/real...  ...  21__outside_talking_still_laughing.mp4_image10\n",
              "...                                                  ...  ...                                             ...\n",
              "55797  /content/drive/My Drive/FakeImageDetector/data...  ...                                  168_222.mp4_10\n",
              "55798  /content/drive/My Drive/FakeImageDetector/data...  ...                                  794_779.mp4_11\n",
              "55799  /content/drive/My Drive/FakeImageDetector/data...  ...                                   284_263.mp4_8\n",
              "55800  /content/drive/My Drive/FakeImageDetector/data...  ...                                             NaN\n",
              "55801  /content/drive/My Drive/FakeImageDetector/data...  ...                                  349.mp4_image4\n",
              "\n",
              "[55802 rows x 14 columns]>"
            ]
          },
          "metadata": {
            "tags": []
          },
          "execution_count": 30
        }
      ]
    },
    {
      "cell_type": "code",
      "metadata": {
        "id": "B0YsNhyqCX01",
        "colab_type": "code",
        "outputId": "4b83707c-dbab-49ad-8adc-a4ba4a2e7596",
        "colab": {
          "base_uri": "https://localhost:8080/",
          "height": 309
        }
      },
      "source": [
        "image_data.head()"
      ],
      "execution_count": 0,
      "outputs": [
        {
          "output_type": "execute_result",
          "data": {
            "text/html": [
              "<div>\n",
              "<style scoped>\n",
              "    .dataframe tbody tr th:only-of-type {\n",
              "        vertical-align: middle;\n",
              "    }\n",
              "\n",
              "    .dataframe tbody tr th {\n",
              "        vertical-align: top;\n",
              "    }\n",
              "\n",
              "    .dataframe thead th {\n",
              "        text-align: right;\n",
              "    }\n",
              "</style>\n",
              "<table border=\"1\" class=\"dataframe\">\n",
              "  <thead>\n",
              "    <tr style=\"text-align: right;\">\n",
              "      <th></th>\n",
              "      <th>filename</th>\n",
              "      <th>imgname</th>\n",
              "      <th>fake_real_name</th>\n",
              "      <th>target_source</th>\n",
              "      <th>age</th>\n",
              "      <th>age_cat</th>\n",
              "      <th>gender</th>\n",
              "      <th>gender10</th>\n",
              "      <th>gender_age_cat</th>\n",
              "      <th>train</th>\n",
              "      <th>face_path</th>\n",
              "      <th>face_method</th>\n",
              "      <th>face_label</th>\n",
              "      <th>face_image_name</th>\n",
              "    </tr>\n",
              "  </thead>\n",
              "  <tbody>\n",
              "    <tr>\n",
              "      <th>0</th>\n",
              "      <td>/content/drive/My Drive/FakeImageDetector/real...</td>\n",
              "      <td>21__outside_talking_still_laughing.mp4_image6.jpg</td>\n",
              "      <td>real_images</td>\n",
              "      <td>21</td>\n",
              "      <td>32.637210</td>\n",
              "      <td>age_30_40</td>\n",
              "      <td>0.061687</td>\n",
              "      <td>0</td>\n",
              "      <td>0_age_30_40</td>\n",
              "      <td>train</td>\n",
              "      <td>/content/drive/My Drive/FakeImageDetector/data...</td>\n",
              "      <td>Real</td>\n",
              "      <td>1.0</td>\n",
              "      <td>21__outside_talking_still_laughing.mp4_image6</td>\n",
              "    </tr>\n",
              "    <tr>\n",
              "      <th>1</th>\n",
              "      <td>/content/drive/My Drive/FakeImageDetector/real...</td>\n",
              "      <td>21__outside_talking_still_laughing.mp4_image7.jpg</td>\n",
              "      <td>real_images</td>\n",
              "      <td>21</td>\n",
              "      <td>31.867521</td>\n",
              "      <td>age_30_40</td>\n",
              "      <td>0.063749</td>\n",
              "      <td>0</td>\n",
              "      <td>0_age_30_40</td>\n",
              "      <td>train</td>\n",
              "      <td>/content/drive/My Drive/FakeImageDetector/data...</td>\n",
              "      <td>Real</td>\n",
              "      <td>1.0</td>\n",
              "      <td>21__outside_talking_still_laughing.mp4_image7</td>\n",
              "    </tr>\n",
              "    <tr>\n",
              "      <th>2</th>\n",
              "      <td>/content/drive/My Drive/FakeImageDetector/real...</td>\n",
              "      <td>21__outside_talking_still_laughing.mp4_image8.jpg</td>\n",
              "      <td>real_images</td>\n",
              "      <td>21</td>\n",
              "      <td>34.179979</td>\n",
              "      <td>age_30_40</td>\n",
              "      <td>0.032942</td>\n",
              "      <td>0</td>\n",
              "      <td>0_age_30_40</td>\n",
              "      <td>train</td>\n",
              "      <td>/content/drive/My Drive/FakeImageDetector/data...</td>\n",
              "      <td>Real</td>\n",
              "      <td>1.0</td>\n",
              "      <td>21__outside_talking_still_laughing.mp4_image8</td>\n",
              "    </tr>\n",
              "    <tr>\n",
              "      <th>3</th>\n",
              "      <td>/content/drive/My Drive/FakeImageDetector/real...</td>\n",
              "      <td>21__outside_talking_still_laughing.mp4_image9.jpg</td>\n",
              "      <td>real_images</td>\n",
              "      <td>21</td>\n",
              "      <td>33.717182</td>\n",
              "      <td>age_30_40</td>\n",
              "      <td>0.026315</td>\n",
              "      <td>0</td>\n",
              "      <td>0_age_30_40</td>\n",
              "      <td>train</td>\n",
              "      <td>/content/drive/My Drive/FakeImageDetector/data...</td>\n",
              "      <td>Real</td>\n",
              "      <td>1.0</td>\n",
              "      <td>21__outside_talking_still_laughing.mp4_image9</td>\n",
              "    </tr>\n",
              "    <tr>\n",
              "      <th>4</th>\n",
              "      <td>/content/drive/My Drive/FakeImageDetector/real...</td>\n",
              "      <td>21__outside_talking_still_laughing.mp4_image10...</td>\n",
              "      <td>real_images</td>\n",
              "      <td>21</td>\n",
              "      <td>37.760803</td>\n",
              "      <td>age_30_40</td>\n",
              "      <td>0.055017</td>\n",
              "      <td>0</td>\n",
              "      <td>0_age_30_40</td>\n",
              "      <td>train</td>\n",
              "      <td>/content/drive/My Drive/FakeImageDetector/data...</td>\n",
              "      <td>Real</td>\n",
              "      <td>1.0</td>\n",
              "      <td>21__outside_talking_still_laughing.mp4_image10</td>\n",
              "    </tr>\n",
              "  </tbody>\n",
              "</table>\n",
              "</div>"
            ],
            "text/plain": [
              "                                            filename  ...                                 face_image_name\n",
              "0  /content/drive/My Drive/FakeImageDetector/real...  ...   21__outside_talking_still_laughing.mp4_image6\n",
              "1  /content/drive/My Drive/FakeImageDetector/real...  ...   21__outside_talking_still_laughing.mp4_image7\n",
              "2  /content/drive/My Drive/FakeImageDetector/real...  ...   21__outside_talking_still_laughing.mp4_image8\n",
              "3  /content/drive/My Drive/FakeImageDetector/real...  ...   21__outside_talking_still_laughing.mp4_image9\n",
              "4  /content/drive/My Drive/FakeImageDetector/real...  ...  21__outside_talking_still_laughing.mp4_image10\n",
              "\n",
              "[5 rows x 14 columns]"
            ]
          },
          "metadata": {
            "tags": []
          },
          "execution_count": 31
        }
      ]
    },
    {
      "cell_type": "code",
      "metadata": {
        "id": "FHxqghuRr7kF",
        "colab_type": "code",
        "colab": {}
      },
      "source": [
        "image_data.to_csv('/content/drive/My Drive/FakeImageDetector/test7_withfaces.csv')\n"
      ],
      "execution_count": 0,
      "outputs": []
    },
    {
      "cell_type": "code",
      "metadata": {
        "id": "jthuaohFyDJ6",
        "colab_type": "code",
        "colab": {}
      },
      "source": [
        "image_data_r = pd.read_csv('/content/drive/My Drive/FakeImageDetector/test7_withfaces.csv')"
      ],
      "execution_count": 0,
      "outputs": []
    },
    {
      "cell_type": "code",
      "metadata": {
        "id": "oaToKP5nCkQ1",
        "colab_type": "code",
        "outputId": "27ed95a3-b751-44d7-cfb6-a13f0935d420",
        "colab": {
          "base_uri": "https://localhost:8080/",
          "height": 153
        }
      },
      "source": [
        "df1 = image_data_r[image_data_r.isna().any(axis=1)]\n",
        "df1.fake_real_name.value_counts()"
      ],
      "execution_count": 0,
      "outputs": [
        {
          "output_type": "execute_result",
          "data": {
            "text/plain": [
              "Face2Face              7533\n",
              "FaceSwap               6802\n",
              "Deepfakes              6646\n",
              "DeepFakeDetection      1142\n",
              "real_images_youtube    1012\n",
              "real_images             601\n",
              "NeuralTextures          254\n",
              "Name: fake_real_name, dtype: int64"
            ]
          },
          "metadata": {
            "tags": []
          },
          "execution_count": 8
        }
      ]
    },
    {
      "cell_type": "code",
      "metadata": {
        "id": "6R0hLShiyj3B",
        "colab_type": "code",
        "colab": {}
      },
      "source": [
        "image_data_r.dropna().train.value_counts()\n",
        "image_data_nona = image_data_r.dropna()"
      ],
      "execution_count": 0,
      "outputs": []
    },
    {
      "cell_type": "code",
      "metadata": {
        "id": "A7sbripkx0P0",
        "colab_type": "code",
        "outputId": "acc3f52f-ff7a-43ec-ba74-95cc2ec05b64",
        "colab": {
          "base_uri": "https://localhost:8080/",
          "height": 326
        }
      },
      "source": [
        "train_all = image_data_nona[image_data_nona.train == 'train']\n",
        "\n",
        "test_all =  image_data_nona[image_data_nona.train == 'test']\n",
        "\n",
        "val_all = image_data_nona[image_data_nona.train == 'validation']\n",
        "\n",
        "train_all.head()"
      ],
      "execution_count": 0,
      "outputs": [
        {
          "output_type": "execute_result",
          "data": {
            "text/html": [
              "<div>\n",
              "<style scoped>\n",
              "    .dataframe tbody tr th:only-of-type {\n",
              "        vertical-align: middle;\n",
              "    }\n",
              "\n",
              "    .dataframe tbody tr th {\n",
              "        vertical-align: top;\n",
              "    }\n",
              "\n",
              "    .dataframe thead th {\n",
              "        text-align: right;\n",
              "    }\n",
              "</style>\n",
              "<table border=\"1\" class=\"dataframe\">\n",
              "  <thead>\n",
              "    <tr style=\"text-align: right;\">\n",
              "      <th></th>\n",
              "      <th>Unnamed: 0</th>\n",
              "      <th>filename</th>\n",
              "      <th>imgname</th>\n",
              "      <th>fake_real_name</th>\n",
              "      <th>target_source</th>\n",
              "      <th>age</th>\n",
              "      <th>age_cat</th>\n",
              "      <th>gender</th>\n",
              "      <th>gender10</th>\n",
              "      <th>gender_age_cat</th>\n",
              "      <th>train</th>\n",
              "      <th>face_path</th>\n",
              "      <th>face_method</th>\n",
              "      <th>face_label</th>\n",
              "      <th>face_image_name</th>\n",
              "    </tr>\n",
              "  </thead>\n",
              "  <tbody>\n",
              "    <tr>\n",
              "      <th>0</th>\n",
              "      <td>0</td>\n",
              "      <td>/content/drive/My Drive/FakeImageDetector/real...</td>\n",
              "      <td>21__outside_talking_still_laughing.mp4_image6.jpg</td>\n",
              "      <td>real_images</td>\n",
              "      <td>21</td>\n",
              "      <td>32.637210</td>\n",
              "      <td>age_30_40</td>\n",
              "      <td>0.061687</td>\n",
              "      <td>0</td>\n",
              "      <td>0_age_30_40</td>\n",
              "      <td>train</td>\n",
              "      <td>/content/drive/My Drive/FakeImageDetector/data...</td>\n",
              "      <td>Real</td>\n",
              "      <td>1.0</td>\n",
              "      <td>21__outside_talking_still_laughing.mp4_image6</td>\n",
              "    </tr>\n",
              "    <tr>\n",
              "      <th>1</th>\n",
              "      <td>1</td>\n",
              "      <td>/content/drive/My Drive/FakeImageDetector/real...</td>\n",
              "      <td>21__outside_talking_still_laughing.mp4_image7.jpg</td>\n",
              "      <td>real_images</td>\n",
              "      <td>21</td>\n",
              "      <td>31.867521</td>\n",
              "      <td>age_30_40</td>\n",
              "      <td>0.063749</td>\n",
              "      <td>0</td>\n",
              "      <td>0_age_30_40</td>\n",
              "      <td>train</td>\n",
              "      <td>/content/drive/My Drive/FakeImageDetector/data...</td>\n",
              "      <td>Real</td>\n",
              "      <td>1.0</td>\n",
              "      <td>21__outside_talking_still_laughing.mp4_image7</td>\n",
              "    </tr>\n",
              "    <tr>\n",
              "      <th>2</th>\n",
              "      <td>2</td>\n",
              "      <td>/content/drive/My Drive/FakeImageDetector/real...</td>\n",
              "      <td>21__outside_talking_still_laughing.mp4_image8.jpg</td>\n",
              "      <td>real_images</td>\n",
              "      <td>21</td>\n",
              "      <td>34.179979</td>\n",
              "      <td>age_30_40</td>\n",
              "      <td>0.032942</td>\n",
              "      <td>0</td>\n",
              "      <td>0_age_30_40</td>\n",
              "      <td>train</td>\n",
              "      <td>/content/drive/My Drive/FakeImageDetector/data...</td>\n",
              "      <td>Real</td>\n",
              "      <td>1.0</td>\n",
              "      <td>21__outside_talking_still_laughing.mp4_image8</td>\n",
              "    </tr>\n",
              "    <tr>\n",
              "      <th>3</th>\n",
              "      <td>3</td>\n",
              "      <td>/content/drive/My Drive/FakeImageDetector/real...</td>\n",
              "      <td>21__outside_talking_still_laughing.mp4_image9.jpg</td>\n",
              "      <td>real_images</td>\n",
              "      <td>21</td>\n",
              "      <td>33.717182</td>\n",
              "      <td>age_30_40</td>\n",
              "      <td>0.026315</td>\n",
              "      <td>0</td>\n",
              "      <td>0_age_30_40</td>\n",
              "      <td>train</td>\n",
              "      <td>/content/drive/My Drive/FakeImageDetector/data...</td>\n",
              "      <td>Real</td>\n",
              "      <td>1.0</td>\n",
              "      <td>21__outside_talking_still_laughing.mp4_image9</td>\n",
              "    </tr>\n",
              "    <tr>\n",
              "      <th>4</th>\n",
              "      <td>4</td>\n",
              "      <td>/content/drive/My Drive/FakeImageDetector/real...</td>\n",
              "      <td>21__outside_talking_still_laughing.mp4_image10...</td>\n",
              "      <td>real_images</td>\n",
              "      <td>21</td>\n",
              "      <td>37.760803</td>\n",
              "      <td>age_30_40</td>\n",
              "      <td>0.055017</td>\n",
              "      <td>0</td>\n",
              "      <td>0_age_30_40</td>\n",
              "      <td>train</td>\n",
              "      <td>/content/drive/My Drive/FakeImageDetector/data...</td>\n",
              "      <td>Real</td>\n",
              "      <td>1.0</td>\n",
              "      <td>21__outside_talking_still_laughing.mp4_image10</td>\n",
              "    </tr>\n",
              "  </tbody>\n",
              "</table>\n",
              "</div>"
            ],
            "text/plain": [
              "   Unnamed: 0  ...                                 face_image_name\n",
              "0           0  ...   21__outside_talking_still_laughing.mp4_image6\n",
              "1           1  ...   21__outside_talking_still_laughing.mp4_image7\n",
              "2           2  ...   21__outside_talking_still_laughing.mp4_image8\n",
              "3           3  ...   21__outside_talking_still_laughing.mp4_image9\n",
              "4           4  ...  21__outside_talking_still_laughing.mp4_image10\n",
              "\n",
              "[5 rows x 15 columns]"
            ]
          },
          "metadata": {
            "tags": []
          },
          "execution_count": 42
        }
      ]
    },
    {
      "cell_type": "code",
      "metadata": {
        "id": "62brVDpM0YL3",
        "colab_type": "code",
        "outputId": "7e9ea840-63e9-49d9-c182-d3f27973c931",
        "colab": {
          "base_uri": "https://localhost:8080/",
          "height": 34
        }
      },
      "source": [
        "gender_c = val_all[val_all.gender10 == 1.0]\n",
        "gender_c.shape"
      ],
      "execution_count": 0,
      "outputs": [
        {
          "output_type": "execute_result",
          "data": {
            "text/plain": [
              "(2587, 15)"
            ]
          },
          "metadata": {
            "tags": []
          },
          "execution_count": 48
        }
      ]
    },
    {
      "cell_type": "code",
      "metadata": {
        "id": "744_RjpE2fz_",
        "colab_type": "code",
        "outputId": "ab06986a-d002-49e3-d898-637b5d64404c",
        "colab": {
          "base_uri": "https://localhost:8080/",
          "height": 68
        }
      },
      "source": [
        "train_gender = train_all['gender10'].value_counts()/train_all.shape[0]\n",
        "train_gender"
      ],
      "execution_count": 0,
      "outputs": [
        {
          "output_type": "execute_result",
          "data": {
            "text/plain": [
              "1    11160\n",
              "0    10600\n",
              "Name: gender10, dtype: int64"
            ]
          },
          "metadata": {
            "tags": []
          },
          "execution_count": 53
        }
      ]
    },
    {
      "cell_type": "code",
      "metadata": {
        "id": "_QndmRS1yn9M",
        "colab_type": "code",
        "colab": {}
      },
      "source": [
        "train_gender = train_all['gender10'].value_counts()/train_all.shape[0]\n",
        "tr_g = train_gender.values\n",
        "test_gender = test_all['gender10'].value_counts()/test_all.shape[0]\n",
        "te_g = test_gender.values\n",
        "val_gender = val_all['gender10'].value_counts()/val_all.shape[0]\n",
        "val_g = val_gender.values"
      ],
      "execution_count": 0,
      "outputs": []
    },
    {
      "cell_type": "code",
      "metadata": {
        "id": "O0IvwJ7UqCOP",
        "colab_type": "code",
        "outputId": "b1db626d-b117-44a3-e36b-f8926ddd52ec",
        "colab": {
          "base_uri": "https://localhost:8080/",
          "height": 352
        }
      },
      "source": [
        "X = np.arange(2)\n",
        "fig = plt.figure()\n",
        "ax = fig.add_axes([0,0,1,1])\n",
        "ax.bar(X + 0.00, tr_g, color = 'b', width = 0.25, label = 'train')\n",
        "ax.bar(X + 0.25, te_g, color = 'g', width = 0.25, label = 'test')\n",
        "ax.bar(X + 0.50, val_g, color = 'r', width = 0.25, label = 'validation')\n",
        "ax.set_xticks([0.25, 1.25])\n",
        "ax.set_xticklabels( ('Female', 'Male') )\n",
        "ax.legend()\n",
        "ax.set_title(\"Gender in train/validation/test 33k\")\n",
        "plt.show()"
      ],
      "execution_count": 0,
      "outputs": [
        {
          "output_type": "display_data",
          "data": {
            "image/png": "[encoded data removed]",
            "text/plain": [
              "<Figure size 432x288 with 1 Axes>"
            ]
          },
          "metadata": {
            "tags": [],
            "needs_background": "light"
          }
        }
      ]
    },
    {
      "cell_type": "code",
      "metadata": {
        "id": "ptiFGTVb2psl",
        "colab_type": "code",
        "colab": {}
      },
      "source": [
        ""
      ],
      "execution_count": 0,
      "outputs": []
    },
    {
      "cell_type": "code",
      "metadata": {
        "id": "ITTvR8FD2aRf",
        "colab_type": "code",
        "outputId": "d84822d6-829a-4062-85ed-b20d6878bd42",
        "colab": {
          "base_uri": "https://localhost:8080/",
          "height": 353
        }
      },
      "source": [
        "plt.clf()\n",
        "plt.figure(figsize=(10,5))\n",
        "plt.hist([train_all['age'].values, \n",
        "          val_all['age'].values, test_all['age'].values], \n",
        "         bins=10, label=['train', 'validation', 'test'], density = True)\n",
        "plt.legend(loc='upper right')\n",
        "plt.title('Age distribution in train/validation/test 33k')\n",
        "plt.show()"
      ],
      "execution_count": 0,
      "outputs": [
        {
          "output_type": "display_data",
          "data": {
            "text/plain": [
              "<Figure size 432x288 with 0 Axes>"
            ]
          },
          "metadata": {
            "tags": []
          }
        },
        {
          "output_type": "display_data",
          "data": {
            "image/png": "[encoded data removed]",
            "text/plain": [
              "<Figure size 720x360 with 1 Axes>"
            ]
          },
          "metadata": {
            "tags": [],
            "needs_background": "light"
          }
        }
      ]
    },
    {
      "cell_type": "code",
      "metadata": {
        "id": "rEVIgF3FziUQ",
        "colab_type": "code",
        "outputId": "c1169742-e9d6-4e9d-f1e1-347447fc9799",
        "colab": {
          "base_uri": "https://localhost:8080/",
          "height": 677
        }
      },
      "source": [
        "plt.figure(figsize=(10,5))\n",
        "plt.hist([train_all['age'].values, val_all['age'].values, test_all['age'].values], bins=10, label=['train', 'validation', 'test'], normed = True)\n",
        "plt.legend(loc='upper right')\n",
        "plt.title('Age distribution in train/validation/test')\n",
        "plt.show()"
      ],
      "execution_count": 0,
      "outputs": [
        {
          "output_type": "error",
          "ename": "AttributeError",
          "evalue": "ignored",
          "traceback": [
            "\u001b[0;31m---------------------------------------------------------------------------\u001b[0m",
            "\u001b[0;31mAttributeError\u001b[0m                            Traceback (most recent call last)",
            "\u001b[0;32m<ipython-input-22-9e6922fb0dce>\u001b[0m in \u001b[0;36m<module>\u001b[0;34m()\u001b[0m\n\u001b[1;32m      1\u001b[0m \u001b[0mplt\u001b[0m\u001b[0;34m.\u001b[0m\u001b[0mfigure\u001b[0m\u001b[0;34m(\u001b[0m\u001b[0mfigsize\u001b[0m\u001b[0;34m=\u001b[0m\u001b[0;34m(\u001b[0m\u001b[0;36m10\u001b[0m\u001b[0;34m,\u001b[0m\u001b[0;36m5\u001b[0m\u001b[0;34m)\u001b[0m\u001b[0;34m)\u001b[0m\u001b[0;34m\u001b[0m\u001b[0;34m\u001b[0m\u001b[0m\n\u001b[0;32m----> 2\u001b[0;31m \u001b[0mplt\u001b[0m\u001b[0;34m.\u001b[0m\u001b[0mhist\u001b[0m\u001b[0;34m(\u001b[0m\u001b[0;34m[\u001b[0m\u001b[0mtrain_all\u001b[0m\u001b[0;34m[\u001b[0m\u001b[0;34m'age'\u001b[0m\u001b[0;34m]\u001b[0m\u001b[0;34m.\u001b[0m\u001b[0mvalues\u001b[0m\u001b[0;34m,\u001b[0m \u001b[0mval_all\u001b[0m\u001b[0;34m[\u001b[0m\u001b[0;34m'age'\u001b[0m\u001b[0;34m]\u001b[0m\u001b[0;34m.\u001b[0m\u001b[0mvalues\u001b[0m\u001b[0;34m,\u001b[0m \u001b[0mtest_all\u001b[0m\u001b[0;34m[\u001b[0m\u001b[0;34m'age'\u001b[0m\u001b[0;34m]\u001b[0m\u001b[0;34m.\u001b[0m\u001b[0mvalues\u001b[0m\u001b[0;34m]\u001b[0m\u001b[0;34m,\u001b[0m \u001b[0mbins\u001b[0m\u001b[0;34m=\u001b[0m\u001b[0;36m10\u001b[0m\u001b[0;34m,\u001b[0m \u001b[0mlabel\u001b[0m\u001b[0;34m=\u001b[0m\u001b[0;34m[\u001b[0m\u001b[0;34m'train'\u001b[0m\u001b[0;34m,\u001b[0m \u001b[0;34m'validation'\u001b[0m\u001b[0;34m,\u001b[0m \u001b[0;34m'test'\u001b[0m\u001b[0;34m]\u001b[0m\u001b[0;34m,\u001b[0m \u001b[0mnormed\u001b[0m \u001b[0;34m=\u001b[0m \u001b[0;32mTrue\u001b[0m\u001b[0;34m)\u001b[0m\u001b[0;34m\u001b[0m\u001b[0;34m\u001b[0m\u001b[0m\n\u001b[0m\u001b[1;32m      3\u001b[0m \u001b[0mplt\u001b[0m\u001b[0;34m.\u001b[0m\u001b[0mlegend\u001b[0m\u001b[0;34m(\u001b[0m\u001b[0mloc\u001b[0m\u001b[0;34m=\u001b[0m\u001b[0;34m'upper right'\u001b[0m\u001b[0;34m)\u001b[0m\u001b[0;34m\u001b[0m\u001b[0;34m\u001b[0m\u001b[0m\n\u001b[1;32m      4\u001b[0m \u001b[0mplt\u001b[0m\u001b[0;34m.\u001b[0m\u001b[0mtitle\u001b[0m\u001b[0;34m(\u001b[0m\u001b[0;34m'Age distribution in train/validation/test'\u001b[0m\u001b[0;34m)\u001b[0m\u001b[0;34m\u001b[0m\u001b[0;34m\u001b[0m\u001b[0m\n\u001b[1;32m      5\u001b[0m \u001b[0mplt\u001b[0m\u001b[0;34m.\u001b[0m\u001b[0mshow\u001b[0m\u001b[0;34m(\u001b[0m\u001b[0;34m)\u001b[0m\u001b[0;34m\u001b[0m\u001b[0;34m\u001b[0m\u001b[0m\n",
            "\u001b[0;32m/usr/local/lib/python3.6/dist-packages/matplotlib/pyplot.py\u001b[0m in \u001b[0;36mhist\u001b[0;34m(x, bins, range, density, weights, cumulative, bottom, histtype, align, orientation, rwidth, log, color, label, stacked, data, **kwargs)\u001b[0m\n\u001b[1;32m   2608\u001b[0m         \u001b[0malign\u001b[0m\u001b[0;34m=\u001b[0m\u001b[0malign\u001b[0m\u001b[0;34m,\u001b[0m \u001b[0morientation\u001b[0m\u001b[0;34m=\u001b[0m\u001b[0morientation\u001b[0m\u001b[0;34m,\u001b[0m \u001b[0mrwidth\u001b[0m\u001b[0;34m=\u001b[0m\u001b[0mrwidth\u001b[0m\u001b[0;34m,\u001b[0m \u001b[0mlog\u001b[0m\u001b[0;34m=\u001b[0m\u001b[0mlog\u001b[0m\u001b[0;34m,\u001b[0m\u001b[0;34m\u001b[0m\u001b[0;34m\u001b[0m\u001b[0m\n\u001b[1;32m   2609\u001b[0m         color=color, label=label, stacked=stacked, **({\"data\": data}\n\u001b[0;32m-> 2610\u001b[0;31m         if data is not None else {}), **kwargs)\n\u001b[0m\u001b[1;32m   2611\u001b[0m \u001b[0;34m\u001b[0m\u001b[0m\n\u001b[1;32m   2612\u001b[0m \u001b[0;34m\u001b[0m\u001b[0m\n",
            "\u001b[0;32m/usr/local/lib/python3.6/dist-packages/matplotlib/__init__.py\u001b[0m in \u001b[0;36minner\u001b[0;34m(ax, data, *args, **kwargs)\u001b[0m\n\u001b[1;32m   1563\u001b[0m     \u001b[0;32mdef\u001b[0m \u001b[0minner\u001b[0m\u001b[0;34m(\u001b[0m\u001b[0max\u001b[0m\u001b[0;34m,\u001b[0m \u001b[0;34m*\u001b[0m\u001b[0margs\u001b[0m\u001b[0;34m,\u001b[0m \u001b[0mdata\u001b[0m\u001b[0;34m=\u001b[0m\u001b[0;32mNone\u001b[0m\u001b[0;34m,\u001b[0m \u001b[0;34m**\u001b[0m\u001b[0mkwargs\u001b[0m\u001b[0;34m)\u001b[0m\u001b[0;34m:\u001b[0m\u001b[0;34m\u001b[0m\u001b[0;34m\u001b[0m\u001b[0m\n\u001b[1;32m   1564\u001b[0m         \u001b[0;32mif\u001b[0m \u001b[0mdata\u001b[0m \u001b[0;32mis\u001b[0m \u001b[0;32mNone\u001b[0m\u001b[0;34m:\u001b[0m\u001b[0;34m\u001b[0m\u001b[0;34m\u001b[0m\u001b[0m\n\u001b[0;32m-> 1565\u001b[0;31m             \u001b[0;32mreturn\u001b[0m \u001b[0mfunc\u001b[0m\u001b[0;34m(\u001b[0m\u001b[0max\u001b[0m\u001b[0;34m,\u001b[0m \u001b[0;34m*\u001b[0m\u001b[0mmap\u001b[0m\u001b[0;34m(\u001b[0m\u001b[0msanitize_sequence\u001b[0m\u001b[0;34m,\u001b[0m \u001b[0margs\u001b[0m\u001b[0;34m)\u001b[0m\u001b[0;34m,\u001b[0m \u001b[0;34m**\u001b[0m\u001b[0mkwargs\u001b[0m\u001b[0;34m)\u001b[0m\u001b[0;34m\u001b[0m\u001b[0;34m\u001b[0m\u001b[0m\n\u001b[0m\u001b[1;32m   1566\u001b[0m \u001b[0;34m\u001b[0m\u001b[0m\n\u001b[1;32m   1567\u001b[0m         \u001b[0mbound\u001b[0m \u001b[0;34m=\u001b[0m \u001b[0mnew_sig\u001b[0m\u001b[0;34m.\u001b[0m\u001b[0mbind\u001b[0m\u001b[0;34m(\u001b[0m\u001b[0max\u001b[0m\u001b[0;34m,\u001b[0m \u001b[0;34m*\u001b[0m\u001b[0margs\u001b[0m\u001b[0;34m,\u001b[0m \u001b[0;34m**\u001b[0m\u001b[0mkwargs\u001b[0m\u001b[0;34m)\u001b[0m\u001b[0;34m\u001b[0m\u001b[0;34m\u001b[0m\u001b[0m\n",
            "\u001b[0;32m/usr/local/lib/python3.6/dist-packages/matplotlib/axes/_axes.py\u001b[0m in \u001b[0;36mhist\u001b[0;34m(self, x, bins, range, density, weights, cumulative, bottom, histtype, align, orientation, rwidth, log, color, label, stacked, **kwargs)\u001b[0m\n\u001b[1;32m   6806\u001b[0m             \u001b[0;32mif\u001b[0m \u001b[0mpatch\u001b[0m\u001b[0;34m:\u001b[0m\u001b[0;34m\u001b[0m\u001b[0;34m\u001b[0m\u001b[0m\n\u001b[1;32m   6807\u001b[0m                 \u001b[0mp\u001b[0m \u001b[0;34m=\u001b[0m \u001b[0mpatch\u001b[0m\u001b[0;34m[\u001b[0m\u001b[0;36m0\u001b[0m\u001b[0;34m]\u001b[0m\u001b[0;34m\u001b[0m\u001b[0;34m\u001b[0m\u001b[0m\n\u001b[0;32m-> 6808\u001b[0;31m                 \u001b[0mp\u001b[0m\u001b[0;34m.\u001b[0m\u001b[0mupdate\u001b[0m\u001b[0;34m(\u001b[0m\u001b[0mkwargs\u001b[0m\u001b[0;34m)\u001b[0m\u001b[0;34m\u001b[0m\u001b[0;34m\u001b[0m\u001b[0m\n\u001b[0m\u001b[1;32m   6809\u001b[0m                 \u001b[0;32mif\u001b[0m \u001b[0mlbl\u001b[0m \u001b[0;32mis\u001b[0m \u001b[0;32mnot\u001b[0m \u001b[0;32mNone\u001b[0m\u001b[0;34m:\u001b[0m\u001b[0;34m\u001b[0m\u001b[0;34m\u001b[0m\u001b[0m\n\u001b[1;32m   6810\u001b[0m                     \u001b[0mp\u001b[0m\u001b[0;34m.\u001b[0m\u001b[0mset_label\u001b[0m\u001b[0;34m(\u001b[0m\u001b[0mlbl\u001b[0m\u001b[0;34m)\u001b[0m\u001b[0;34m\u001b[0m\u001b[0;34m\u001b[0m\u001b[0m\n",
            "\u001b[0;32m/usr/local/lib/python3.6/dist-packages/matplotlib/artist.py\u001b[0m in \u001b[0;36mupdate\u001b[0;34m(self, props)\u001b[0m\n\u001b[1;32m   1004\u001b[0m \u001b[0;34m\u001b[0m\u001b[0m\n\u001b[1;32m   1005\u001b[0m         \u001b[0;32mwith\u001b[0m \u001b[0mcbook\u001b[0m\u001b[0;34m.\u001b[0m\u001b[0m_setattr_cm\u001b[0m\u001b[0;34m(\u001b[0m\u001b[0mself\u001b[0m\u001b[0;34m,\u001b[0m \u001b[0meventson\u001b[0m\u001b[0;34m=\u001b[0m\u001b[0;32mFalse\u001b[0m\u001b[0;34m)\u001b[0m\u001b[0;34m:\u001b[0m\u001b[0;34m\u001b[0m\u001b[0;34m\u001b[0m\u001b[0m\n\u001b[0;32m-> 1006\u001b[0;31m             \u001b[0mret\u001b[0m \u001b[0;34m=\u001b[0m \u001b[0;34m[\u001b[0m\u001b[0m_update_property\u001b[0m\u001b[0;34m(\u001b[0m\u001b[0mself\u001b[0m\u001b[0;34m,\u001b[0m \u001b[0mk\u001b[0m\u001b[0;34m,\u001b[0m \u001b[0mv\u001b[0m\u001b[0;34m)\u001b[0m \u001b[0;32mfor\u001b[0m \u001b[0mk\u001b[0m\u001b[0;34m,\u001b[0m \u001b[0mv\u001b[0m \u001b[0;32min\u001b[0m \u001b[0mprops\u001b[0m\u001b[0;34m.\u001b[0m\u001b[0mitems\u001b[0m\u001b[0;34m(\u001b[0m\u001b[0;34m)\u001b[0m\u001b[0;34m]\u001b[0m\u001b[0;34m\u001b[0m\u001b[0;34m\u001b[0m\u001b[0m\n\u001b[0m\u001b[1;32m   1007\u001b[0m \u001b[0;34m\u001b[0m\u001b[0m\n\u001b[1;32m   1008\u001b[0m         \u001b[0;32mif\u001b[0m \u001b[0mlen\u001b[0m\u001b[0;34m(\u001b[0m\u001b[0mret\u001b[0m\u001b[0;34m)\u001b[0m\u001b[0;34m:\u001b[0m\u001b[0;34m\u001b[0m\u001b[0;34m\u001b[0m\u001b[0m\n",
            "\u001b[0;32m/usr/local/lib/python3.6/dist-packages/matplotlib/artist.py\u001b[0m in \u001b[0;36m<listcomp>\u001b[0;34m(.0)\u001b[0m\n\u001b[1;32m   1004\u001b[0m \u001b[0;34m\u001b[0m\u001b[0m\n\u001b[1;32m   1005\u001b[0m         \u001b[0;32mwith\u001b[0m \u001b[0mcbook\u001b[0m\u001b[0;34m.\u001b[0m\u001b[0m_setattr_cm\u001b[0m\u001b[0;34m(\u001b[0m\u001b[0mself\u001b[0m\u001b[0;34m,\u001b[0m \u001b[0meventson\u001b[0m\u001b[0;34m=\u001b[0m\u001b[0;32mFalse\u001b[0m\u001b[0;34m)\u001b[0m\u001b[0;34m:\u001b[0m\u001b[0;34m\u001b[0m\u001b[0;34m\u001b[0m\u001b[0m\n\u001b[0;32m-> 1006\u001b[0;31m             \u001b[0mret\u001b[0m \u001b[0;34m=\u001b[0m \u001b[0;34m[\u001b[0m\u001b[0m_update_property\u001b[0m\u001b[0;34m(\u001b[0m\u001b[0mself\u001b[0m\u001b[0;34m,\u001b[0m \u001b[0mk\u001b[0m\u001b[0;34m,\u001b[0m \u001b[0mv\u001b[0m\u001b[0;34m)\u001b[0m \u001b[0;32mfor\u001b[0m \u001b[0mk\u001b[0m\u001b[0;34m,\u001b[0m \u001b[0mv\u001b[0m \u001b[0;32min\u001b[0m \u001b[0mprops\u001b[0m\u001b[0;34m.\u001b[0m\u001b[0mitems\u001b[0m\u001b[0;34m(\u001b[0m\u001b[0;34m)\u001b[0m\u001b[0;34m]\u001b[0m\u001b[0;34m\u001b[0m\u001b[0;34m\u001b[0m\u001b[0m\n\u001b[0m\u001b[1;32m   1007\u001b[0m \u001b[0;34m\u001b[0m\u001b[0m\n\u001b[1;32m   1008\u001b[0m         \u001b[0;32mif\u001b[0m \u001b[0mlen\u001b[0m\u001b[0;34m(\u001b[0m\u001b[0mret\u001b[0m\u001b[0;34m)\u001b[0m\u001b[0;34m:\u001b[0m\u001b[0;34m\u001b[0m\u001b[0;34m\u001b[0m\u001b[0m\n",
            "\u001b[0;32m/usr/local/lib/python3.6/dist-packages/matplotlib/artist.py\u001b[0m in \u001b[0;36m_update_property\u001b[0;34m(self, k, v)\u001b[0m\n\u001b[1;32m   1000\u001b[0m                 \u001b[0;32mif\u001b[0m \u001b[0;32mnot\u001b[0m \u001b[0mcallable\u001b[0m\u001b[0;34m(\u001b[0m\u001b[0mfunc\u001b[0m\u001b[0;34m)\u001b[0m\u001b[0;34m:\u001b[0m\u001b[0;34m\u001b[0m\u001b[0;34m\u001b[0m\u001b[0m\n\u001b[1;32m   1001\u001b[0m                     raise AttributeError('{!r} object has no property {!r}'\n\u001b[0;32m-> 1002\u001b[0;31m                                          .format(type(self).__name__, k))\n\u001b[0m\u001b[1;32m   1003\u001b[0m                 \u001b[0;32mreturn\u001b[0m \u001b[0mfunc\u001b[0m\u001b[0;34m(\u001b[0m\u001b[0mv\u001b[0m\u001b[0;34m)\u001b[0m\u001b[0;34m\u001b[0m\u001b[0;34m\u001b[0m\u001b[0m\n\u001b[1;32m   1004\u001b[0m \u001b[0;34m\u001b[0m\u001b[0m\n",
            "\u001b[0;31mAttributeError\u001b[0m: 'Rectangle' object has no property 'normed'"
          ]
        },
        {
          "output_type": "display_data",
          "data": {
            "image/png": "[encoded data removed]",
            "text/plain": [
              "<Figure size 720x360 with 1 Axes>"
            ]
          },
          "metadata": {
            "tags": [],
            "needs_background": "light"
          }
        }
      ]
    },
    {
      "cell_type": "code",
      "metadata": {
        "id": "NknU3BS-3yp5",
        "colab_type": "code",
        "outputId": "8feb452f-e5fd-4808-ebef-a7b876261439",
        "colab": {
          "base_uri": "https://localhost:8080/",
          "height": 153
        }
      },
      "source": [
        "image_data_nona.fake_real_name.value_counts()"
      ],
      "execution_count": 0,
      "outputs": [
        {
          "output_type": "execute_result",
          "data": {
            "text/plain": [
              "DeepFakeDetection      10038\n",
              "real_images_youtube     7361\n",
              "NeuralTextures          6515\n",
              "real_images             3758\n",
              "Face2Face               2536\n",
              "Deepfakes               1602\n",
              "FaceSwap                   2\n",
              "Name: fake_real_name, dtype: int64"
            ]
          },
          "metadata": {
            "tags": []
          },
          "execution_count": 66
        }
      ]
    },
    {
      "cell_type": "markdown",
      "metadata": {
        "id": "wPTOlm0BqCm1",
        "colab_type": "text"
      },
      "source": [
        "## Face2Face\n",
        "\n"
      ]
    },
    {
      "cell_type": "code",
      "metadata": {
        "id": "UraO3CiqpdFs",
        "colab_type": "code",
        "outputId": "729468cc-1ffa-491c-daa3-367bf083409e",
        "colab": {
          "base_uri": "https://localhost:8080/",
          "height": 34
        }
      },
      "source": [
        "df2 = df1[df1.fake_real_name == 'Face2Face']\n",
        "df2.head()\n",
        "df2['filename'][37485]\n"
      ],
      "execution_count": 0,
      "outputs": [
        {
          "output_type": "execute_result",
          "data": {
            "text/plain": [
              "'/content/drive/My Drive/FakeImageDetector/data/manipulated_sequences/Face2Face/c23/images/440_364.mp4_2.jpg'"
            ]
          },
          "metadata": {
            "tags": []
          },
          "execution_count": 39
        }
      ]
    },
    {
      "cell_type": "code",
      "metadata": {
        "id": "ZhKnqJRJqI8-",
        "colab_type": "code",
        "outputId": "4a314e8f-45ae-462f-f2ea-f831b4564c08",
        "colab": {
          "base_uri": "https://localhost:8080/",
          "height": 34
        }
      },
      "source": [
        "#read faces dataset\n",
        "faces_csv_path = '/content/drive/My Drive/FakeImageDetector/dataset/updated/faces_Face2Face_new.csv'\n",
        "f2f_faces_dataset = pd.read_csv(faces_csv_path)\n",
        "f2f_faces_dataset.shape"
      ],
      "execution_count": 0,
      "outputs": [
        {
          "output_type": "execute_result",
          "data": {
            "text/plain": [
              "(9299, 4)"
            ]
          },
          "metadata": {
            "tags": []
          },
          "execution_count": 43
        }
      ]
    },
    {
      "cell_type": "code",
      "metadata": {
        "id": "9A29Yw9kW2YH",
        "colab_type": "code",
        "outputId": "1870c6b1-82b2-4460-b17b-ef60eca6911f",
        "colab": {
          "base_uri": "https://localhost:8080/",
          "height": 146
        }
      },
      "source": [
        "image_data.loc[index, 'face_path'].head()\n",
        "filenam = image_data['face_path'][36628]\n",
        "filemane2 = image_data['filename'][36628]\n",
        "\n",
        "Image(filenam)\n",
        "# /content/drive/My Drive/FakeImageDetector/data/manipulated_sequences/DeepFakeDetection/c23/faces/14_21__exit_phone_room__IRKML4J0_14.bmp.jpg 0"
      ],
      "execution_count": 0,
      "outputs": [
        {
          "output_type": "execute_result",
          "data": {
            "image/jpeg": "[encoded data removed]",
            "text/plain": [
              "<IPython.core.display.Image object>"
            ]
          },
          "metadata": {
            "tags": []
          },
          "execution_count": 20
        }
      ]
    },
    {
      "cell_type": "code",
      "metadata": {
        "id": "CYBmip-CYb9r",
        "colab_type": "code",
        "colab": {}
      },
      "source": [
        "Image(filemane2)\n"
      ],
      "execution_count": 0,
      "outputs": []
    },
    {
      "cell_type": "code",
      "metadata": {
        "id": "-uFRZtqX7cAf",
        "colab_type": "code",
        "colab": {}
      },
      "source": [
        ""
      ],
      "execution_count": 0,
      "outputs": []
    },
    {
      "cell_type": "markdown",
      "metadata": {
        "id": "gc4PzRIr7cpi",
        "colab_type": "text"
      },
      "source": [
        "##faceswap\n",
        "\n"
      ]
    },
    {
      "cell_type": "code",
      "metadata": {
        "id": "0Q9aKk1d8P26",
        "colab_type": "code",
        "outputId": "13cce5ab-0dfe-4e28-f8a1-0136c0579cc8",
        "colab": {
          "base_uri": "https://localhost:8080/",
          "height": 34
        }
      },
      "source": [
        "image_data_r = pd.read_csv('/content/drive/My Drive/FakeImageDetector/test7_withfaces.csv')\n",
        "df0 = image_data_r[image_data_r.fake_real_name == 'FaceSwap']\n",
        "df0.shape"
      ],
      "execution_count": 0,
      "outputs": [
        {
          "output_type": "execute_result",
          "data": {
            "text/plain": [
              "(6804, 15)"
            ]
          },
          "metadata": {
            "tags": []
          },
          "execution_count": 76
        }
      ]
    },
    {
      "cell_type": "code",
      "metadata": {
        "id": "plPxp96Y7fK6",
        "colab_type": "code",
        "outputId": "c275c49d-10b0-4d86-85e2-fd23f64f7cb1",
        "colab": {
          "base_uri": "https://localhost:8080/",
          "height": 204
        }
      },
      "source": [
        "face_swap_faces = pd.read_csv('/content/drive/My Drive/FakeImageDetector/dataset/faces_FaceSwap.csv')\n",
        "face_swap_faces.head()\n",
        "# face_swap_faces.filename"
      ],
      "execution_count": 0,
      "outputs": [
        {
          "output_type": "execute_result",
          "data": {
            "text/html": [
              "<div>\n",
              "<style scoped>\n",
              "    .dataframe tbody tr th:only-of-type {\n",
              "        vertical-align: middle;\n",
              "    }\n",
              "\n",
              "    .dataframe tbody tr th {\n",
              "        vertical-align: top;\n",
              "    }\n",
              "\n",
              "    .dataframe thead th {\n",
              "        text-align: right;\n",
              "    }\n",
              "</style>\n",
              "<table border=\"1\" class=\"dataframe\">\n",
              "  <thead>\n",
              "    <tr style=\"text-align: right;\">\n",
              "      <th></th>\n",
              "      <th>index</th>\n",
              "      <th>filename</th>\n",
              "      <th>method</th>\n",
              "      <th>label</th>\n",
              "    </tr>\n",
              "  </thead>\n",
              "  <tbody>\n",
              "    <tr>\n",
              "      <th>0</th>\n",
              "      <td>0</td>\n",
              "      <td>/content/drive/My Drive/FakeImageDetector/data...</td>\n",
              "      <td>FaceSwap</td>\n",
              "      <td>0</td>\n",
              "    </tr>\n",
              "    <tr>\n",
              "      <th>1</th>\n",
              "      <td>0</td>\n",
              "      <td>/content/drive/My Drive/FakeImageDetector/data...</td>\n",
              "      <td>FaceSwap</td>\n",
              "      <td>0</td>\n",
              "    </tr>\n",
              "    <tr>\n",
              "      <th>2</th>\n",
              "      <td>0</td>\n",
              "      <td>/content/drive/My Drive/FakeImageDetector/data...</td>\n",
              "      <td>FaceSwap</td>\n",
              "      <td>0</td>\n",
              "    </tr>\n",
              "    <tr>\n",
              "      <th>3</th>\n",
              "      <td>0</td>\n",
              "      <td>/content/drive/My Drive/FakeImageDetector/data...</td>\n",
              "      <td>FaceSwap</td>\n",
              "      <td>0</td>\n",
              "    </tr>\n",
              "    <tr>\n",
              "      <th>4</th>\n",
              "      <td>0</td>\n",
              "      <td>/content/drive/My Drive/FakeImageDetector/data...</td>\n",
              "      <td>FaceSwap</td>\n",
              "      <td>0</td>\n",
              "    </tr>\n",
              "  </tbody>\n",
              "</table>\n",
              "</div>"
            ],
            "text/plain": [
              "   index                                           filename    method  label\n",
              "0      0  /content/drive/My Drive/FakeImageDetector/data...  FaceSwap      0\n",
              "1      0  /content/drive/My Drive/FakeImageDetector/data...  FaceSwap      0\n",
              "2      0  /content/drive/My Drive/FakeImageDetector/data...  FaceSwap      0\n",
              "3      0  /content/drive/My Drive/FakeImageDetector/data...  FaceSwap      0\n",
              "4      0  /content/drive/My Drive/FakeImageDetector/data...  FaceSwap      0"
            ]
          },
          "metadata": {
            "tags": []
          },
          "execution_count": 71
        }
      ]
    },
    {
      "cell_type": "code",
      "metadata": {
        "id": "e3JHw5Xo8CQ5",
        "colab_type": "code",
        "outputId": "aee8edec-f0fe-420b-80d2-5a5a315fd7bf",
        "colab": {
          "base_uri": "https://localhost:8080/",
          "height": 34
        }
      },
      "source": [
        "df2 = df1[df1.fake_real_name == 'FaceSwap']\n",
        "df2.shape"
      ],
      "execution_count": 0,
      "outputs": [
        {
          "output_type": "execute_result",
          "data": {
            "text/plain": [
              "(6802, 15)"
            ]
          },
          "metadata": {
            "tags": []
          },
          "execution_count": 74
        }
      ]
    }
  ]
}